{
  "nbformat": 4,
  "nbformat_minor": 0,
  "metadata": {
    "colab": {
      "provenance": [],
      "include_colab_link": true
    },
    "kernelspec": {
      "name": "python3",
      "display_name": "Python 3"
    },
    "language_info": {
      "name": "python"
    }
  },
  "cells": [
    {
      "cell_type": "markdown",
      "metadata": {
        "id": "view-in-github",
        "colab_type": "text"
      },
      "source": [
        "<a href=\"https://colab.research.google.com/github/napgat/PythonLab3/blob/main/Lab6-5069.ipynb\" target=\"_parent\"><img src=\"https://colab.research.google.com/assets/colab-badge.svg\" alt=\"Open In Colab\"/></a>"
      ]
    },
    {
      "cell_type": "markdown",
      "source": [
        "Ex. 6.1 ให้เขียนฟังก์ชันชื่อ test_ pangram เพื่อตรวจสอบว่า String ที่รับเข้ามาเป็น pangram หรือไม่ โดย pangram คือ string ที่ประกอบด้วยตัวอักษรทุกตัวในภาษาอังกฤษ (ต้องมีอักษรแต่ละตัวปรากฏอย่างน้อย 1 ครั้ง) เช่น\n",
        "The quick brown fox jumps over the lazy dog\n",
        "รับข้อมูลเป็น string และ return เป็น True หรือ False"
      ],
      "metadata": {
        "id": "g1jKRrPZdrD9"
      }
    },
    {
      "cell_type": "code",
      "execution_count": 13,
      "metadata": {
        "colab": {
          "base_uri": "https://localhost:8080/"
        },
        "id": "oc_mt8z2dluv",
        "outputId": "64626383-5ce4-4ed9-fafc-48c7b2377c39"
      },
      "outputs": [
        {
          "output_type": "stream",
          "name": "stdout",
          "text": [
            "False\n"
          ]
        }
      ],
      "source": [
        "def test_pangram(str,abc):\n",
        "    count = 0\n",
        "    string = str.replace(\" \",\"\").lower()\n",
        "    abc_list = split_string_toarray(abc)\n",
        "    not_again_list = []\n",
        "    for char in string:\n",
        "        if char not in not_again_list:\n",
        "            count += 1\n",
        "            not_again_list.append(char)\n",
        "    if count == len(abc_list):\n",
        "        return True\n",
        "    return False\n",
        "\n",
        "def split_string_toarray(str):\n",
        "    str_re = []\n",
        "    str_re = str.split(' ')\n",
        "    return str_re\n",
        "\n",
        "abc = ('a b c d e f g h i k l m n o p q r s t u v w x y z')\n",
        "input_string = 'The quick brown fox jumps over the lazy dog'\n",
        "print(test_pangram(input_string,abc))\n"
      ]
    },
    {
      "cell_type": "markdown",
      "source": [
        "Ex 6.2 จงเขียน โปรแกรมที่รวมผลลัพธ์ ของตัวเลขที่อยู่ใน List โดยกำหนดให้ฟังก์ชัน ชื่อ find_sum(n_list,n) โดย n_list เป็น List ของตัวเลขที่มีความยาว n โดยให้เขียนในแบบ Recursion\n"
      ],
      "metadata": {
        "id": "jsFdK2rreKku"
      }
    },
    {
      "cell_type": "code",
      "source": [
        "def find_sum(n_list,n):\n",
        "    if n == 0:\n",
        "        return 1\n",
        "    else:\n",
        "        return n_list[n] + find_sum(n_list,n-1)\n",
        "\n",
        "\n",
        "n_list = [1, 3, 5, 7, 9]\n",
        "n = len(n_list) - 1\n",
        "result = find_sum(n_list,n)\n",
        "print(result)"
      ],
      "metadata": {
        "id": "SWhMgyAc0uSI",
        "colab": {
          "base_uri": "https://localhost:8080/"
        },
        "outputId": "84614966-58bc-4ba5-bd35-840e873c41f7"
      },
      "execution_count": null,
      "outputs": [
        {
          "output_type": "stream",
          "name": "stdout",
          "text": [
            "25\n"
          ]
        }
      ]
    },
    {
      "cell_type": "markdown",
      "source": [
        "Ex 6.3 กำหนดให้ List x เก็บ String และตัวแปร c เก็บตัวอักษร\n",
        "ให้สร้าง List d ที่เก็บจำนวนครั้งที่ตัวอักษรใน c ปรากฏในแต่ละ String ของ List x โดยใช้ List comprehension\n",
        "\n",
        "- เช่น x = [‘abba’, ‘babana’, ‘ann’]; c = ‘a’\n",
        "- จะได้ d = [2, 3, 1]\n",
        "\n",
        "ให้เขียนในฟังก์ชัน count_char_in_string(x,c) แล้ว return เป็น List คำตอบ"
      ],
      "metadata": {
        "id": "S9FRT-zz05-A"
      }
    },
    {
      "cell_type": "code",
      "source": [
        "def count_char_in_string(x,c):\n",
        "    result_of_string = [e.count(c) for e in x]\n",
        "    print(result_of_string)\n",
        "\n",
        "x = ['abc', 'bcb', 'cab']\n",
        "c = 'b'\n",
        "d = count_char_in_string(x,c)\n",
        "print(d)\n",
        "count_char_in_string(['abba', 'babana', 'ann'],'a') #=> [2, 3, 1]\n",
        "count_char_in_string(['apple', 'banana', 'cherry'],'a')# => [1, 3, 1]\n",
        "count_char_in_string(['dog', 'cat', 'fish'],'z') #=> [0, 0, 0]\n",
        "count_char_in_string(['abc', 'bcb', 'cab'],'b')# => [1, 2, 1]\n",
        "count_char_in_string(['', 'a', ''],'a') #=> [0, 1, 0]\n",
        "count_char_in_string(['@home', '#hash', 'space '],'#')# => [0, 1, 0]"
      ],
      "metadata": {
        "id": "yQZQFVa01JPs",
        "colab": {
          "base_uri": "https://localhost:8080/"
        },
        "outputId": "18483b38-95b0-4e40-957c-494e4c1958e1"
      },
      "execution_count": 15,
      "outputs": [
        {
          "output_type": "stream",
          "name": "stdout",
          "text": [
            "[1, 2, 1]\n",
            "None\n",
            "[2, 3, 1]\n",
            "[1, 3, 0]\n",
            "[0, 0, 0]\n",
            "[1, 2, 1]\n",
            "[0, 1, 0]\n",
            "[0, 1, 0]\n"
          ]
        }
      ]
    },
    {
      "cell_type": "markdown",
      "source": [
        "Ex 6.4  กำหนดให้ List x เป็น List ของจำนวนเต็ม\n",
        "ให้เขียนโปรแกรมเพื่อลบจำนวนเต็มทุกตัวใน x ที่มีค่าเป็นลบ โดยใช้ List comprehension\n",
        "\n",
        "- เช่น x = [ [1, -3, 2], [-8, 5], [-1, -4, -3] ]\n",
        "- ได้คำตอบเป็น [ [1, 2], [5], [] ]\n",
        "\n",
        "ให้เขียนในฟังก์ชัน delete_minus(x) แล้ว return เป็น List คำตอบ\n",
        "Hint : ถ้าคิดไม่ออกให้ทดลองเขียนแบบปกติก่อน แล้วค่อยลดรูป\n"
      ],
      "metadata": {
        "id": "vRtEJLkP5MLT"
      }
    },
    {
      "cell_type": "code",
      "source": [
        "def delete_minus(x):\n",
        "    x = [[h for h in i if h >= 0]\\\n",
        "    for i in x]\n",
        "    print(x)\n",
        "\n",
        "delete_minus([[1, -3, 2], [-8, 5], [-1, -4, -3]])# => [[1, 2], [5], []]\n",
        "delete_minus([[0, -1, -2], [3, 4, -5], [-6, 7]])# => [[0], [3, 4], [7]]\n",
        "delete_minus([[10, -10, 20], [-30, 30], [40, -40]]) #=> [[10, 20], [30], [40]]\n",
        "delete_minus([[1, 2, 3], [4, 5], [6]]) #=> [[1, 2, 3], [4, 5], [6]]\n",
        "delete_minus([[-1, -2, -3], [-4, -5], [-6]])# => [[], [], []]\n",
        "delete_minus([[-10, -20, -30], [-40, -50], [-60]])# => [[], [], []]"
      ],
      "metadata": {
        "id": "SDA5CALo5WPK",
        "colab": {
          "base_uri": "https://localhost:8080/"
        },
        "outputId": "d2898b83-5035-48a0-9806-b5d48367576c"
      },
      "execution_count": 17,
      "outputs": [
        {
          "output_type": "stream",
          "name": "stdout",
          "text": [
            "[[1, 2], [5], []]\n",
            "[[0], [3, 4], [7]]\n",
            "[[10, 20], [30], [40]]\n",
            "[[1, 2, 3], [4, 5], [6]]\n",
            "[[], [], []]\n",
            "[[], [], []]\n"
          ]
        }
      ]
    },
    {
      "cell_type": "markdown",
      "source": [
        "Ex 6.5 ให้เขียนโปรแกรมเพื่อรับข้อมูล 1 บรรทัด ที่ประกอบด้วยจำนวนเต็มหลายจำนวน (คั่นด้วยช่องว่าง)\n",
        "ให้ส่งคืนว่ามีจำนวนที่เป็นลบกี่จำนวน โดยใช้ List comprehension\n",
        "ให้เขียนในฟังก์ชัน count_minus(str) แล้ว return เป็นคำตอบ"
      ],
      "metadata": {
        "id": "nLUpu-7v6MCa"
      }
    },
    {
      "cell_type": "code",
      "source": [
        "def count_minus(str):\n",
        "    str = str.split(\" \")\n",
        "    x = [e for e in str if int(e) < 0]\n",
        "    print(len(x))\n",
        "count_minus(\"1 2 -3 4 -5\") #=> 2\n",
        "count_minus(\"-1 -2 -3 -4 -5\")# => 5\n",
        "count_minus(\"1 2 3 4 5\") #=> 0\n",
        "count_minus(\"0 0 0 0 0\")# => 0\n",
        "count_minus(\"-10 -20 -30 -40 -50\")# => 5"
      ],
      "metadata": {
        "id": "BO0JESLu9cVj",
        "colab": {
          "base_uri": "https://localhost:8080/"
        },
        "outputId": "9a2ac309-cc6c-4a06-eb79-f6e49c6c2125"
      },
      "execution_count": 23,
      "outputs": [
        {
          "output_type": "stream",
          "name": "stdout",
          "text": [
            "2\n",
            "5\n",
            "0\n",
            "0\n",
            "5\n"
          ]
        }
      ]
    },
    {
      "cell_type": "markdown",
      "source": [
        "Ex 6.6 ให้เขียนโปรแกรมเพื่อรับ string 1 ตัว\n",
        "ให้ส่งคืนเฉพาะตัวอักษรที่เป็นภาษาอังกฤษ โดยใช้ List comprehension\n",
        "ให้เขียนในฟังก์ชัน only_english(string1) แล้ว return เป็นคำตอบเป็น string"
      ],
      "metadata": {
        "id": "18YUhkQ96Fiw"
      }
    },
    {
      "cell_type": "code",
      "source": [
        "def only_english(string1):\n",
        "    string = [i for i in string1 if i.isalpha() or i.isspace()]\n",
        "    string1 = \"\".join(string)\n",
        "    print(string1)\n",
        "only_english(\"Hello, World!\")# => \"Hello World\"\n",
        "only_english(\"This is a test.\") #=> \"This is a test\"\n",
        "only_english(\"12345\")# => \"\"\n",
        "only_english(\"abcABC123\")# => \"abcABC\"\n",
        "only_english(\"!@#$%^&*()\") #=> \"\""
      ],
      "metadata": {
        "colab": {
          "base_uri": "https://localhost:8080/"
        },
        "id": "lTSDaweTK-A3",
        "outputId": "b1ff72c5-d5fe-4d6e-b50c-c3dfdc8f1888"
      },
      "execution_count": 31,
      "outputs": [
        {
          "output_type": "stream",
          "name": "stdout",
          "text": [
            "Hello World\n",
            "This is a test\n",
            "\n",
            "abcABC\n",
            "\n"
          ]
        }
      ]
    },
    {
      "cell_type": "markdown",
      "source": [
        "Ex 6.7 กำหนดให้ list x และ y เป็น list ของจำนวนเต็ม โดยมีขนาดเท่ากัน\n",
        "ให้ return list ที่เป็นผลบวกของ list x และ y โดยใช้ list comprehension\n",
        "เขียนให้ function ชื่อ add2list(lst1,lst2)\n",
        "\n",
        "\n"
      ],
      "metadata": {
        "id": "S5dKtu4o96b-"
      }
    },
    {
      "cell_type": "code",
      "source": [
        "def add2list(lst1,lst2):\n",
        "    x = [lst2[i]+lst1[i] for i in range(len(lst1))]\n",
        "    print(x)\n",
        "add2list([1, 2, 3, 4, 5], [6, 7, 8, 9, 10]) #[7, 9, 11, 13, 15]\n",
        "add2list([1, 2, 3], [4, 5, 6])# => [5, 7, 9]\n",
        "add2list([-1, -2, -3], [1, 2, 3])# => [0, 0, 0]\n",
        "add2list([0, 0, 0], [10, 20, 30]) #=> [10, 20, 30]\n",
        "add2list([7, 8, 9], [3, 2, 1]) #=> [10, 10, 10]\n",
        "add2list([100, 200, 300], [400, 500, 600]) #=> [500, 700, 900]\n",
        "add2list([1, 2, 3, 4, 5], [6, 7, 8, 9, 10])# => [7, 9, 11, 13, 15]"
      ],
      "metadata": {
        "id": "L18pzqF5-AtR",
        "colab": {
          "base_uri": "https://localhost:8080/"
        },
        "outputId": "ffbc9706-0fe6-450e-b491-a7fbf87fefa4"
      },
      "execution_count": 32,
      "outputs": [
        {
          "output_type": "stream",
          "name": "stdout",
          "text": [
            "[7, 9, 11, 13, 15]\n",
            "[5, 7, 9]\n",
            "[0, 0, 0]\n",
            "[10, 20, 30]\n",
            "[10, 10, 10]\n",
            "[500, 700, 900]\n",
            "[7, 9, 11, 13, 15]\n"
          ]
        }
      ]
    },
    {
      "cell_type": "markdown",
      "source": [
        "1.\tกำหนดให้ m เป็น list ของ list ของ Integer ให้แปลง m ให้เป็น list ของ integer โดยใช้ List Comprehension โดยให้เขียนเป็น ฟังก์ชัน ชื่อ flatten_list(lst) และ return เป็น list คำตอบ\n",
        "- Input : [ [1, 2, 3], [4, 5, 6] ]\n",
        "- Output : [1, 2, 3, 4, 5, 6]\n"
      ],
      "metadata": {
        "id": "5HpBdNsU-4SW"
      }
    },
    {
      "cell_type": "code",
      "source": [
        "def flatten_list(lst):\n",
        "    lst = [h for x in lst for h in x]\n",
        "    print(lst)\n",
        "flatten_list([[7, 8], [9, 10], [11, 12]]) #=> [7, 8, 9, 10, 11, 12]\n",
        "flatten_list([[0], [1], [2], [3]])# => [0, 1, 2, 3]\n",
        "flatten_list([[1, 1, 1], [2, 2], [3]]) #=> [1, 1, 1, 2, 2, 3]\n",
        "flatten_list([[5, 6, 7], [8], [9, 10]])# => [5, 6, 7, 8, 9, 10]\n",
        "\n"
      ],
      "metadata": {
        "id": "nfKGEY7d--zX",
        "colab": {
          "base_uri": "https://localhost:8080/"
        },
        "outputId": "889d106b-88d6-44c9-febd-4c43bbc041de"
      },
      "execution_count": 34,
      "outputs": [
        {
          "output_type": "stream",
          "name": "stdout",
          "text": [
            "[7, 8, 9, 10, 11, 12]\n",
            "[0, 1, 2, 3]\n",
            "[1, 1, 1, 2, 2, 3]\n",
            "[5, 6, 7, 8, 9, 10]\n"
          ]
        }
      ]
    },
    {
      "cell_type": "markdown",
      "source": [
        "2.\tกำหนดให้ s เป็น list ของ Integer ให้เขียนโปรแกรม ตัดตัวเลขที่ซ้ำกันใน list ให้เหลือเพียงตัวเลขเดียว โดยใช้ list comprehension (ห้ามใช้ set) โดยมีขั้นตอนดังนี้\n",
        "-\tเรียงลำดับข้อมูลใน list\n",
        "-\tสร้าง list ใหม่ โดยนำข้อมูลใน list ตัวที่ติดกันมาพิจารณาจากซ้ายไปขวา หากค่าไม่เท่ากันให้นำไปใส่ใน list ใหม่\n",
        "-\tนำตัวขวาสุด (ตัวสุดท้าย) เพิ่มเข้าไปใน list ใหม่ ก็จะได้ s ที่ไม่มีตัวซ้ำ\n",
        "-\tโดยให้เขียนเป็นฟังก์ชัน ชื่อ remove_duplicate(s)\n",
        "\n",
        "- Input : [1, 2, 3, 3, 4, 5, 6]\n",
        "- Output : [1, 2, 3, 4, 5, 6]\n",
        "\n",
        "ห้ามใช้ sort"
      ],
      "metadata": {
        "id": "_FXeyEnm_y8X"
      }
    },
    {
      "cell_type": "code",
      "source": [
        "def remove_duplicate(s):\n",
        "    s = sorted(s)\n",
        "    count = 0\n",
        "    for i in s:\n",
        "        if s[0] == i:\n",
        "            count+=1\n",
        "    if count == len(s):\n",
        "        lst = [s[0]]\n",
        "    else:\n",
        "        lst = [s[a] for a in range(0,len(s)) if s[a] != s[a-1]]\n",
        "    print(lst)\n",
        "def sorted(a):\n",
        "    for i in range(0,len(a)-1):\n",
        "        for j in range(i+1,len(a)):\n",
        "            if a[i] > a[j]:\n",
        "                a[j],a[i] = a[i],a[j]\n",
        "    return a\n",
        "\n",
        "remove_duplicate([1, 2, 3, 3, 4, 5, 6]) #=> [1, 2, 3, 4, 5, 6]\n",
        "remove_duplicate([5, 1, 3, 3, 2, 5, 1]) #=> [\n",
        "remove_duplicate([7, 7, 8, 8, 8, 9])# => [7, 8, 9]\n",
        "remove_duplicate([10, 10, 10, 10])# => [10]\n",
        "remove_duplicate([1, 2, 2, 3, 4, 4, 4, 5]) #=> [1, 2, 3, 4, 5]\n"
      ],
      "metadata": {
        "id": "iH8ceRWJ_5wq",
        "colab": {
          "base_uri": "https://localhost:8080/"
        },
        "outputId": "668a46c1-1cfc-44e2-e847-aaa0b219dabe"
      },
      "execution_count": 2,
      "outputs": [
        {
          "output_type": "stream",
          "name": "stdout",
          "text": [
            "[1, 2, 3, 4, 5, 6]\n",
            "[1, 2, 3, 5]\n",
            "[7, 8, 9]\n",
            "[10]\n",
            "[1, 2, 3, 4, 5]\n"
          ]
        }
      ]
    },
    {
      "cell_type": "markdown",
      "source": [
        "3.\tกำหนดให้มี 2 list คือ lst1 และ lst2 ให้ค้นหาสมาชิกที่มีในทั้ง 2 list โดยใช้ list comprehension\n",
        "(ห้ามใช้ set) โดยให้เขียนเป็นฟังก์ชันชื่อ common_member(lst1, lst2) โดย return เป็น list ที่มีสมาชิกทั้ง 2 list\n",
        "- Input : lst1 = [1, 2, 4, 5, 6] lst2 = [2, 3, 4]\n",
        "- Output : [2, 4]\n"
      ],
      "metadata": {
        "id": "f9smt54DAyYU"
      }
    },
    {
      "cell_type": "code",
      "source": [
        "def common_member(lst1, lst2):\n",
        "    num = [e for e in lst1 if e in lst2]\n",
        "    print(num)\n",
        "\n",
        "common_member([1, 2, 4, 5, 6], [2, 3, 4])\n",
        "common_member([1, 2, 3, 4, 5], [6, 7, 8])# => []\n",
        "common_member([1, 2, 3, 4, 5], [1, 2, 3, 4, 5]) #=> [1, 2, 3, 4, 5]\n",
        "common_member([1, 2, 3, 4, 5], [5, 4, 3, 2, 1]) #=> [1, 2, 3, 4, 5]\n",
        "common_member([1, 2, 3, 4, 5], [6, 7, 8, 9, 10])# => []\n"
      ],
      "metadata": {
        "id": "3K2MCpiWA-tX",
        "colab": {
          "base_uri": "https://localhost:8080/"
        },
        "outputId": "1cd2fe0c-4c57-4f8e-de33-328503a0375a"
      },
      "execution_count": 5,
      "outputs": [
        {
          "output_type": "stream",
          "name": "stdout",
          "text": [
            "[2, 4]\n",
            "[]\n",
            "[1, 2, 3, 4, 5]\n",
            "[1, 2, 3, 4, 5]\n",
            "[]\n"
          ]
        }
      ]
    },
    {
      "cell_type": "markdown",
      "source": [
        "4.\tกำหนดให้ s เป็น String ให้เขียนโปรแกรมโดยใช้ List comprehension โดยให้ตัดตัวอักษรภาษาอังกฤษที่เป็นสระ a, e, i, o, u ออกจากประโยคให้หมด เช่น\n",
        "\n",
        "- Input : “common_member” จะได้ Output เป็น “cmmn mmbr”\n",
        "\n"
      ],
      "metadata": {
        "id": "V71CdsnEBWu8"
      }
    },
    {
      "cell_type": "code",
      "source": [
        "def remove_vowels(s):\n",
        "  sara_list = ['a','e','i','o','u']\n",
        "  s = [i for i in s if i not in sara_list]\n",
        "  s = change_alpha_tospace(s)\n",
        "  print(s)\n",
        "\n",
        "def change_alpha_tospace(s):\n",
        "  for i in range(len(s)):\n",
        "    if not s[i].isalpha():\n",
        "       s[i] = ' '\n",
        "  return ''.join(s)\n",
        "\n",
        "\n",
        "remove_vowels(\"common_member\") #=> \"cmmn mmbr\"\n",
        "remove_vowels(\"hello world\") #=> \"hll wrld\"\n",
        "remove_vowels(\"aeiou\") #=> \"\"\n",
        "remove_vowels(\"qwertyuiop\") #=> \"qwert\n",
        "remove_vowels(\"abcdefghijklmnopqrstuvwxyz\")# => \"bcdfghjklmnp"
      ],
      "metadata": {
        "id": "UNjxlDMqBcSz",
        "colab": {
          "base_uri": "https://localhost:8080/"
        },
        "outputId": "8c65d955-b5c0-491a-d205-80f858985fb5"
      },
      "execution_count": 3,
      "outputs": [
        {
          "output_type": "stream",
          "name": "stdout",
          "text": [
            "cmmn mmbr\n",
            "hll wrld\n",
            "\n",
            "qwrtyp\n",
            "bcdfghjklmnpqrstvwxyz\n"
          ]
        }
      ]
    },
    {
      "cell_type": "markdown",
      "source": [
        "5.\tให้เขียนโปรแกรมรับ list ของจำนวนเต็มชุดหนึ่ง โดย list นี้จะมีสมาชิกพิเศษอยู่ที่ตัวสุดท้าย ซึ่งจะมีค่าเป็นลบเสมอ (สมาชิกตัวอื่นเป็นบวกหรือลบก็ได้) ให้สร้าง list ใหม่ที่เกิดจากสมาชิกทุกตัว (ยกเว้นตัวสุดท้าย) ลบด้วยสมาชิกตัวสุดท้าย\n",
        "- Input : [1, 10, 2, -5]\n",
        "- Output: [-4, 5, -3]\n",
        "- Input : [100, 0, -1]\n",
        "- Output: [99, -1]\n",
        "- Input : [3, -3]\n",
        "\n"
      ],
      "metadata": {
        "id": "Zo07ebrTBjgA"
      }
    },
    {
      "cell_type": "code",
      "source": [
        "def remove_last_element(lst):\n",
        "    def get_lastdigit(s):\n",
        "        nonlocal str\n",
        "        i = s.pop()\n",
        "        return i\n",
        "    str = lst\n",
        "    l_digit = get_lastdigit(str)\n",
        "    print([i+(l_digit) for i in str])\n",
        "\n",
        "remove_last_element([1, 10, 2, -5]) #=> [-4, 5, -3]\n",
        "remove_last_element([100, 0, -1]) #=> [99, -1]\n",
        "remove_last_element([3, -3])# => [0]\n",
        "\n"
      ],
      "metadata": {
        "id": "cSSMJX5fBi8-",
        "colab": {
          "base_uri": "https://localhost:8080/"
        },
        "outputId": "c52d4245-3b9e-45aa-fb72-4ced162b7d37"
      },
      "execution_count": 6,
      "outputs": [
        {
          "output_type": "stream",
          "name": "stdout",
          "text": [
            "[-4, 5, -3]\n",
            "[99, -1]\n",
            "[0]\n"
          ]
        }
      ]
    },
    {
      "cell_type": "markdown",
      "source": [
        "6.\tกำหนดให้ s เป็น String ให้เขียนโปรแกรมเพื่อหา คำ ที่มีความยาวน้อยกว่า 5 ตัวอักษร โดยใช้ list comprehension\n",
        "- Input : “A total of 16 playable characters!”\n",
        "- Output : “A total of 16”\n",
        "\n"
      ],
      "metadata": {
        "id": "kguZ7w78CP0W"
      }
    },
    {
      "cell_type": "code",
      "source": [
        "def find_short_words(str):\n",
        "    str_nospace = str.split(\" \")\n",
        "    p = [i for i in str_nospace if len(i) < 5]\n",
        "    str_return = \" \".join(p)\n",
        "    print(str_return)\n",
        "\n",
        "\n",
        "find_short_words(\"A total of 16 playable characters!\") #=> \"A total of 16\"\n",
        "find_short_words(\"The quick brown fox jumps over the lazy dog\") #=> \"The fox over the dog\"\n",
        "find_short_words(\"Python is a great programming language\") #=> \"is a\"\n",
        "find_short_words(\"Short words are kept short and long words are ignored\") #=> \"are kept and are\"\n"
      ],
      "metadata": {
        "id": "IN6wcH_WCVJv",
        "colab": {
          "base_uri": "https://localhost:8080/"
        },
        "outputId": "681bb8a1-fa38-496f-ba9b-06d077a19285"
      },
      "execution_count": 3,
      "outputs": [
        {
          "output_type": "stream",
          "name": "stdout",
          "text": [
            "A of 16\n",
            "The fox over the lazy dog\n",
            "is a\n",
            "are kept and long are\n"
          ]
        }
      ]
    },
    {
      "cell_type": "markdown",
      "source": [
        "7.\tให้เขียนโปรแกรมเพื่อคำนวณหา rank ของรหัสนักศึกษาที่กำหนด โดยให้เรียงตามคะแนน โดย rank = 1 คือ มีคะแนนสูงสุด โดยใช้ list comprehension\n",
        "กำหนดให้มีข้อมูล s_score มีตัวอย่างดังนี้\n",
        "\n",
        "s_score = [\t[‘65015001’, 87.25],\n",
        "\t\t[‘65015002’, 77.00],\n",
        "\t\t[‘65015003’, 82.50],\n",
        "\t\t[‘65015004’, 69.75],\n",
        "\t\t[‘65015005’, 66.00]  ]\n",
        "    \n",
        "ให้เขียนฟังก์ชัน find_rank( s_score, stu_id ) โดย s_score เป็น list ของคะแนน และ std_id เป็นรหัสนักศึกษาที่ต้องการหา rank\n",
        "เช่น find_rank ( s_score, ‘65015004’) จะ return 4 เพราะมีคะแนนเป็นอันดับ 4\n"
      ],
      "metadata": {
        "id": "yioC3udBDK3M"
      }
    },
    {
      "cell_type": "code",
      "source": [
        "def find_rank(s_score, stu_id):\n",
        "    s_score = sort_rank(s_score)\n",
        "    rank_out = [i for i in range(len(s_score)) if s_score[i][0] == stu_id]\n",
        "    return rank_out[0] + 1\n",
        "\n",
        "def sort_rank(s_score):\n",
        "    for i in range(0,len(s_score)-1):\n",
        "        for j in range(i+1,len(s_score)):\n",
        "            if s_score[i][1] < s_score[j][1]:\n",
        "                s_score[i],s_score[j] = s_score[j],s_score[i]\n",
        "    return s_score\n",
        "\n",
        "s_score = [['65015001', 87.25], ['65015002', 77.00], ['65015003', 82.50], ['65015004', 69.75], ['65015005', 66.00]]\n",
        "print(find_rank(s_score, '65015004'))  # Output: 4\n",
        "\n",
        "# Test Case 2\n",
        "s_score = [['65015001', 90.00], ['65015002', 80.00], ['65015003', 85.00], ['65015004', 70.00], ['65015005', 60.00]]\n",
        "print(find_rank(s_score, '65015002'))  # Output: 2\n",
        "\n",
        "# Test Case 3\n",
        "s_score = [['65015001', 95.00], ['65015002', 95.00], ['65015003', 90.00], ['65015004', 85.00], ['65015005', 80.00]]\n",
        "print(find_rank(s_score, '65015001'))  # Output: 1\n",
        "\n",
        "# Test Case 4\n",
        "s_score = [['65015001', 50.00], ['65015002', 60.00], ['65015003', 70.00], ['65015004', 80.00], ['65015005', 90.00]]\n",
        "print(find_rank(s_score, '65015005'))  # Output: 1\n",
        "\n",
        "# Test Case 5\n",
        "s_score = [['65015001', 55.00], ['65015002', 65.00], ['65015003', 75.00], ['65015004', 85.00], ['65015005', 95.00]]\n",
        "print(find_rank(s_score, '65015003'))  # Output: 3\n"
      ],
      "metadata": {
        "id": "72EkAIBjDTO_",
        "colab": {
          "base_uri": "https://localhost:8080/"
        },
        "outputId": "ad9cb395-74ae-489d-b6a3-980c31379dfe"
      },
      "execution_count": 7,
      "outputs": [
        {
          "output_type": "stream",
          "name": "stdout",
          "text": [
            "4\n",
            "3\n",
            "1\n",
            "1\n",
            "3\n"
          ]
        }
      ]
    },
    {
      "cell_type": "markdown",
      "source": [
        "8.\tให้เขียนโปรแกรม เพื่อหาข้อมูลที่มีความถี่มากกว่าครึ่งหนึ่งของจำนวนข้อมูลที่รับเข้ามา แต่ถ้าไม่พบให้แสดง Not found โดยใช้ list comprehension\n",
        "\n",
        "- เช่น \t[4, 5, 5, 10] ได้ผลลัพธ์เป็น Not found\n",
        "-\t[4, 5, 5] ได้ผลลัพธ์เป็น 5\n",
        "-\t[10, 5, 5, 3, 5] ได้ผลลัพธ์เป็น 5\n",
        "-\t[2, 4, 2, 4, 2, 4] ได้ผลลัพธ์เป็น Not found\n",
        "\n",
        "ให้เขียนเป็นฟังก์ชัน ชื่อ more_than_half(n_list) โดย n_list เป็นข้อมูลนำเข้า และ return เป็นผลลัพธ์ หรือ Not found\n"
      ],
      "metadata": {
        "id": "oJGkdpmfEH2e"
      }
    },
    {
      "cell_type": "code",
      "source": [
        "def more_than_half(n_list):\n",
        "    len_lst = len(n_list) // 2\n",
        "    not_again = []\n",
        "    not_again = [i for i in n_list if count(n_list,i) > round(len_lst)if i not in not_again]\n",
        "    if len(not_again) > 0:\n",
        "        print(not_again[0])\n",
        "    else:\n",
        "        print(\"NotFound\")\n",
        "\n",
        "\n",
        "def count(list,n):\n",
        "    amount_ofagain = [count for i in list if i == n]\n",
        "    return len(amount_ofagain)\n",
        "\n",
        "more_than_half([4, 5, 5, 10]) #=> \"Not found\"\n",
        "more_than_half([4, 5, 5]) #=> 5\n",
        "more_than_half([10, 5, 5, 3, 5]) #=> 5\n",
        "more_than_half([2, 4, 2, 4, 2, 4]) #=> \"Not found\""
      ],
      "metadata": {
        "id": "ahXL6sfbEQUQ",
        "colab": {
          "base_uri": "https://localhost:8080/"
        },
        "outputId": "c5244a2d-b28e-4fcf-84ab-efcd54f3b9e5"
      },
      "execution_count": 9,
      "outputs": [
        {
          "output_type": "stream",
          "name": "stdout",
          "text": [
            "NotFound\n",
            "5\n",
            "5\n",
            "NotFound\n"
          ]
        }
      ]
    },
    {
      "cell_type": "markdown",
      "source": [
        "9.\tจงเขียนโปรแกรมในแบบ recursion เพื่อกลับ String เช่น\n",
        "- Input : 'desserts'\n",
        "- Output : 'stressed'\n"
      ],
      "metadata": {
        "id": "0oTFJs2PEkL5"
      }
    },
    {
      "cell_type": "code",
      "source": [
        "def reverse(n):\n",
        "    if len(n) == 0:\n",
        "        return n\n",
        "    else:\n",
        "        return n[-1] + reverse(n[:-1])\n",
        "str = 'desserts'\n",
        "print(reverse(str))\n",
        "#print(str[-1]+str[-2]+str[-3]+str[-4]+str[-5]+str[-6]+str[-7]+str[-8])"
      ],
      "metadata": {
        "id": "_h5KwR9WEo7e",
        "colab": {
          "base_uri": "https://localhost:8080/"
        },
        "outputId": "12a002f7-467d-469e-e290-0f35f5bdf641"
      },
      "execution_count": 1,
      "outputs": [
        {
          "output_type": "stream",
          "name": "stdout",
          "text": [
            "stressed\n"
          ]
        }
      ]
    }
  ]
}