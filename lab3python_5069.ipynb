{
  "nbformat": 4,
  "nbformat_minor": 0,
  "metadata": {
    "colab": {
      "provenance": [],
      "include_colab_link": true
    },
    "kernelspec": {
      "name": "python3",
      "display_name": "Python 3"
    },
    "language_info": {
      "name": "python"
    }
  },
  "cells": [
    {
      "cell_type": "markdown",
      "metadata": {
        "id": "view-in-github",
        "colab_type": "text"
      },
      "source": [
        "<a href=\"https://colab.research.google.com/github/napgat/PythonLab3/blob/main/lab3python_5069.ipynb\" target=\"_parent\"><img src=\"https://colab.research.google.com/assets/colab-badge.svg\" alt=\"Open In Colab\"/></a>"
      ]
    },
    {
      "cell_type": "markdown",
      "source": [
        "# Exercise 3\n",
        "\n",
        "3.1 จากข้อมูลใน List ให้หาผลบวกเฉพาะตัวเลขคู่ โดยใช้ While Loop\n",
        "\n",
        "list1 = [1, 2, 3, 4, 5, 6, 7, 8, 9, 11, 13]\n",
        "\n"
      ],
      "metadata": {
        "id": "8LZVzcOUVMor"
      }
    },
    {
      "cell_type": "code",
      "execution_count": null,
      "metadata": {
        "id": "2cTrxjMXUE2n",
        "outputId": "b0a7c0b2-e736-4b98-9e6c-496975a96f7c",
        "colab": {
          "base_uri": "https://localhost:8080/"
        }
      },
      "outputs": [
        {
          "output_type": "stream",
          "name": "stdout",
          "text": [
            "2\n",
            "4\n",
            "6\n",
            "8\n"
          ]
        }
      ],
      "source": [
        "list1 = [1, 2, 3, 4, 5, 6, 7, 8, 9, 11, 13]\n",
        "\n",
        "for i in list1:\n",
        "  if i%2==0:\n",
        "    print(i)"
      ]
    },
    {
      "cell_type": "markdown",
      "source": [
        "3.2 จากข้อมูลใน List ให้หาตัวเลขที่มีค่ามากที่สุดเป็นอันดับ 2 ใน List โดยใช้ While Loop\n",
        "\n",
        "list = [-5, 7, 10, 1, 2, 5, 8, 100]\n"
      ],
      "metadata": {
        "id": "uPvbrsO_Vimb"
      }
    },
    {
      "cell_type": "code",
      "source": [
        "list = [-5, 7, 10, 1, 2, 5, 8, 100]\n",
        "i = 0\n",
        "most_value1 = list[0]\n",
        "most_value2 = 0\n",
        "while i < len(list):\n",
        "  if not most_value1 > list[i]:\n",
        "    most_value2 = most_value1\n",
        "    most_value1 = list[i]\n",
        "  i+=1\n",
        "print(most_value2)\n"
      ],
      "metadata": {
        "id": "iUeJ91zfVr1Z",
        "colab": {
          "base_uri": "https://localhost:8080/"
        },
        "outputId": "c476d6d0-f3b9-4aad-abc9-b4f0af6596f9"
      },
      "execution_count": null,
      "outputs": [
        {
          "output_type": "stream",
          "name": "stdout",
          "text": [
            "10\n"
          ]
        }
      ]
    },
    {
      "cell_type": "markdown",
      "source": [
        "3.3 เขียนโปรแกรมรับค่า n แล้วคำนวณค่าต่อไปนี้\n",
        "\n",
        "$1/1^2 + 1/2^2 + 1/3^2 + 1/4^2 + 1/5^2 + … +  1/n^2$\n"
      ],
      "metadata": {
        "id": "udBZzWe9VsU7"
      }
    },
    {
      "cell_type": "code",
      "source": [
        "num_input = int(input())\n",
        "start_point = 1\n",
        "sum = 0.0\n",
        "while start_point <= num_input:\n",
        "    sum += 1/(start_point**2)\n",
        "    start_point+=1\n",
        "print(round(sum,2))"
      ],
      "metadata": {
        "id": "xtBw7zuxWEZ4",
        "colab": {
          "base_uri": "https://localhost:8080/"
        },
        "outputId": "07f25e9a-48aa-4925-b85d-ea236609ad31"
      },
      "execution_count": null,
      "outputs": [
        {
          "output_type": "stream",
          "name": "stdout",
          "text": [
            "9\n",
            "1.54\n"
          ]
        }
      ]
    },
    {
      "cell_type": "markdown",
      "source": [
        "3.4 จากข้อมูลใน List ให้ตรวจสอบว่า ข้อมูลในลิสต์ s เรียงลำดับจากน้อยไปมากหรือไม่ ตอบเป็น True, False\n",
        "\n",
        "\t[1,2,3,4,5], [5,4,3,2,1]\n"
      ],
      "metadata": {
        "id": "o-6AnE5zWFJJ"
      }
    },
    {
      "cell_type": "code",
      "source": [
        "list_1 = [1,2,3,4,5]\n",
        "list_2 = [5,4,3,2,1]\n",
        "selected_list = list_2\n",
        "next_num = selected_list[1]\n",
        "result = False\n",
        "for i in range(len(selected_list)):\n",
        "    if selected_list[i] > selected_list[next_num]:\n",
        "        result = True\n",
        "        continue\n",
        "    else:\n",
        "        result = False\n",
        "print(result)\n"
      ],
      "metadata": {
        "id": "LYG2sGGgWNei",
        "colab": {
          "base_uri": "https://localhost:8080/"
        },
        "outputId": "b0d229f7-d9b1-413f-849e-a4229ef8cbdb"
      },
      "execution_count": null,
      "outputs": [
        {
          "output_type": "stream",
          "name": "stdout",
          "text": [
            "False\n"
          ]
        }
      ]
    },
    {
      "cell_type": "markdown",
      "source": [
        "3.5  ให้ x เป็นลิสต์เก็บคะแนน ต้องการปรับช่องที่มีค่าน้อยกว่า 30 ให้มีค่าเพิ่มอีก 10% แสดงผลลัพธ์ เป็น List\n",
        "\n",
        "\tx = [60, 70, 72, 65, 55, 43, 20, 90, 12]\n"
      ],
      "metadata": {
        "id": "Hv-fE32hWOBd"
      }
    },
    {
      "cell_type": "code",
      "source": [
        "x = [60, 70, 72, 65, 55, 43, 20, 90, 12]\n",
        "for i in range(len(x)):\n",
        "  if x[i] < 30:\n",
        "    x[i] = x[i]+10\n",
        "print(x)"
      ],
      "metadata": {
        "id": "BSFOJ_8GWTtL",
        "colab": {
          "base_uri": "https://localhost:8080/"
        },
        "outputId": "894af62c-d565-4d32-cee9-219ff6a477be"
      },
      "execution_count": null,
      "outputs": [
        {
          "output_type": "stream",
          "name": "stdout",
          "text": [
            "[60, 70, 72, 65, 55, 43, 30, 90, 22]\n"
          ]
        }
      ]
    },
    {
      "cell_type": "markdown",
      "source": [
        "3.6 ต้องการหาผลรวมของคะแนนที่เก็บในลิสต์ x โดยขอไม่รวมคะแนนที่น้อยสุดอันดับ 2\n",
        "\n",
        "\tx = [15, 80, 75, 62, 55, 43, 99, 67, 10]\n"
      ],
      "metadata": {
        "id": "IDw88nQbWUTw"
      }
    },
    {
      "cell_type": "code",
      "source": [
        "x = [15, 80, 75, 62, 55, 43, 99, 67, 10]\n",
        "i = 0\n",
        "most_value1 = x[0]\n",
        "most_value2 = 0\n",
        "while i < len(x):\n",
        "  if not most_value1 > x[i]:\n",
        "    most_value2 = most_value1\n",
        "    most_value1 = x[i]\n",
        "  i+=1\n",
        "sum_total = 0\n",
        "for p in x:\n",
        "    if p == most_value2:\n",
        "        continue\n",
        "    else:\n",
        "        sum_total += p\n",
        "print(sum_total)"
      ],
      "metadata": {
        "id": "Aool1F22WZKI",
        "colab": {
          "base_uri": "https://localhost:8080/"
        },
        "outputId": "a8847802-cba4-48d8-c0cb-e00485dea758"
      },
      "execution_count": null,
      "outputs": [
        {
          "output_type": "stream",
          "name": "stdout",
          "text": [
            "426\n"
          ]
        }
      ]
    },
    {
      "cell_type": "markdown",
      "source": [
        "3.7 จากข้อมูลใน List ให้แสดง string ที่มีความยาวมากกว่า 2 และมีอักษรตัวแรกกับตัวสุดท้ายเหมือนกัน แสดงบรรทัดละ 1 ตัว\n",
        "\n",
        "\tlst = ['abba', 'a', 'aa', 'alcaza', 'python', 'stores', 'program', 'execute']\n"
      ],
      "metadata": {
        "id": "92oZ0IQdWZkF"
      }
    },
    {
      "cell_type": "code",
      "source": [
        "lst = ['abba', 'a', 'aa', 'alcaza', 'python', 'stores', 'program', 'execute']\n",
        "count_spell = 0\n",
        "for name in lst:\n",
        "    for spell in name:\n",
        "        if count_spell > 2:\n",
        "            if name[0] == name[-1]:\n",
        "                print(name)\n",
        "                break\n",
        "        count_spell +=1\n",
        "    count_spell = 0"
      ],
      "metadata": {
        "id": "i3vr0x1vWiHH",
        "colab": {
          "base_uri": "https://localhost:8080/"
        },
        "outputId": "e967a602-7514-4d6f-eb8f-9fcf3e36dec1"
      },
      "execution_count": null,
      "outputs": [
        {
          "output_type": "stream",
          "name": "stdout",
          "text": [
            "abba\n",
            "alcaza\n",
            "stores\n",
            "execute\n"
          ]
        }
      ]
    },
    {
      "cell_type": "markdown",
      "source": [
        "3.8 จากข้อมูลใน List ให้ลบข้อมูลที่มีซ้ำกันให้เหลือเพียงตัวเดียว ให้แสดงผลเป็น list เช่น\n",
        "\n",
        "[‘a’,’a’] => [‘a’]\n",
        "\n",
        "lst = ['a', 'a', 'b', 'a', 'b', 'c', 'd']\n"
      ],
      "metadata": {
        "id": "QicYHZbcWi8U"
      }
    },
    {
      "cell_type": "code",
      "source": [
        "lst = ['a', 'a', 'b', 'a', 'b', 'c', 'd']\n",
        "new_list = []\n",
        "selected = lst[0]\n",
        "amount_lst = len(lst)\n",
        "for a in range(amount_lst):\n",
        "    if not lst[a] in new_list:\n",
        "        new_list.append(lst[a])\n",
        "lst = new_list\n",
        "print(lst)"
      ],
      "metadata": {
        "id": "saXxuMceWzd2",
        "colab": {
          "base_uri": "https://localhost:8080/"
        },
        "outputId": "369e6ae8-a3f5-4485-d311-590f332dccd2"
      },
      "execution_count": null,
      "outputs": [
        {
          "output_type": "stream",
          "name": "stdout",
          "text": [
            "['a', 'b', 'c', 'd']\n"
          ]
        }
      ]
    },
    {
      "cell_type": "markdown",
      "source": [
        "3.9 จากข้อมูลใน List ให้แสดงว่าแต่ละข้อมูลใน List มีจำนวนเท่าไร คือ มีซ้ำกันกี่ตัวใน List  ให้แสดงบรรทัดละตัว เช่น\n",
        "\n",
        "\t[1, 2, 3, 4, 1, 2, 3, 1, 2, 1]\n",
        "\t1 = 4\n",
        "\t2 = 3\n",
        "\t3 = 2\n",
        "\t4 = 1\n",
        "  \n",
        "\tlst = [1,2,3,4,5,1,2,3,4,1,2,3,1,2,1]"
      ],
      "metadata": {
        "id": "Dl6OEM9nWz8s"
      }
    },
    {
      "cell_type": "code",
      "source": [
        "list = [1,2,3,4,5,1,2,3,4,1,2,3,1,2,1]\n",
        "list_again = []\n",
        "i = 0\n",
        "len_list = len(list)\n",
        "sum = 0\n",
        "n = 1\n",
        "for num in list:\n",
        "    if not num in list_again:\n",
        "        list_again.append(num)\n",
        "while i < len(list_again):\n",
        "    n = 0\n",
        "    while n < len_list:\n",
        "        if list[i] == list[n]:\n",
        "            sum += 1\n",
        "        n +=1\n",
        "    print(f\"{list[i]} = {sum}\")\n",
        "    sum= 0\n",
        "    i = i+1"
      ],
      "metadata": {
        "id": "Dm0dAivtW7vQ",
        "colab": {
          "base_uri": "https://localhost:8080/"
        },
        "outputId": "a3bbf811-2d07-447f-f54b-6fb6d19a17c3"
      },
      "execution_count": null,
      "outputs": [
        {
          "output_type": "stream",
          "name": "stdout",
          "text": [
            "1 = 5\n",
            "2 = 4\n",
            "3 = 3\n",
            "4 = 2\n",
            "5 = 1\n"
          ]
        }
      ]
    },
    {
      "cell_type": "markdown",
      "source": [
        "1.\tเขียนโปรแกรมเพื่อหาผลบวกของอนุกรม 5+10+15+20+… จนถึง n เมื่อ n เป็นตัวเลขที่รับเข้ามาทางคีย์บอร์ด"
      ],
      "metadata": {
        "id": "GgbgWOV6W8Nn"
      }
    },
    {
      "cell_type": "code",
      "source": [
        "num = int(input())\n",
        "step = 5\n",
        "sum = 0\n",
        "for i in range(num):\n",
        "  sum += step\n",
        "  step += 5\n",
        "print(sum)"
      ],
      "metadata": {
        "id": "9cCHZsLhXGKm",
        "colab": {
          "base_uri": "https://localhost:8080/"
        },
        "outputId": "c309a28c-e25f-44f2-d40a-cf12963b7cce"
      },
      "execution_count": null,
      "outputs": [
        {
          "output_type": "stream",
          "name": "stdout",
          "text": [
            "5\n",
            "75\n"
          ]
        }
      ]
    },
    {
      "cell_type": "markdown",
      "source": [
        "2.\tจงเขียนโปรแกรมที่จะหาตัวเลขระหว่าง 2000-3200 ที่หารด้วย 7 ลงตัว แต่หารด้วย 5 ไม่ลงตัว\n",
        "การแสดงผลให้แสดงตัวเลขและคั่นด้วยเครื่องหมาย , ในบรรทัดเดียว\n",
        "\n",
        "2002,2009,2016,2023,2037,2044,2051,2058,2072,2079,2086,2093,2107,2114,2121,2128,2142,2149,2156,2163,2177,2184,2191,2198,2212,2219,2226,2233,2247,2254,2261,2268,2282,2289,2296,2303,2317,2324,2331,2338,2352,2359,2366,2373,2387,2394,2401,2408,2422,2429,2436,2443,2457,2464,2471,2478,2492,2499,2506,2513,2527,2534,2541,2548,2562,2569,2576,2583,2597,2604,2611,2618,2632,2639,2646,2653,2667,2674,2681,2688,2702,2709,2716,2723,2737,2744,2751,2758,2772,2779,2786,2793,2807,2814,2821,2828,2842,2849,2856,2863,2877,2884,2891,2898,2912,2919,2926,2933,2947,2954,2961,2968,2982,2989,2996,3003,3017,3024,3031,3038,3052,3059,3066,3073,3087,3094,3101,3108,3122,3129,3136,3143,3157,3164,3171,3178,3192,3199,"
      ],
      "metadata": {
        "id": "aujapFNTXGsV"
      }
    },
    {
      "cell_type": "code",
      "source": [
        "starter_num = 2000\n",
        "end_num = 3200\n",
        "while starter_num < end_num +1:\n",
        "  if starter_num % 7 == 0 and starter_num % 5 != 0:\n",
        "    print(starter_num,end=',')\n",
        "  starter_num += 1\n"
      ],
      "metadata": {
        "id": "L-kIF3-nXJqR",
        "colab": {
          "base_uri": "https://localhost:8080/"
        },
        "outputId": "5a72f67f-8eca-44a6-cadb-ec41ff5488b3"
      },
      "execution_count": null,
      "outputs": [
        {
          "output_type": "stream",
          "name": "stdout",
          "text": [
            "2002,2009,2016,2023,2037,2044,2051,2058,2072,2079,2086,2093,2107,2114,2121,2128,2142,2149,2156,2163,2177,2184,2191,2198,2212,2219,2226,2233,2247,2254,2261,2268,2282,2289,2296,2303,2317,2324,2331,2338,2352,2359,2366,2373,2387,2394,2401,2408,2422,2429,2436,2443,2457,2464,2471,2478,2492,2499,2506,2513,2527,2534,2541,2548,2562,2569,2576,2583,2597,2604,2611,2618,2632,2639,2646,2653,2667,2674,2681,2688,2702,2709,2716,2723,2737,2744,2751,2758,2772,2779,2786,2793,2807,2814,2821,2828,2842,2849,2856,2863,2877,2884,2891,2898,2912,2919,2926,2933,2947,2954,2961,2968,2982,2989,2996,3003,3017,3024,3031,3038,3052,3059,3066,3073,3087,3094,3101,3108,3122,3129,3136,3143,3157,3164,3171,3178,3192,3199,"
          ]
        }
      ]
    },
    {
      "cell_type": "markdown",
      "source": [
        "3.\tจากข้อมูลใน List ต้องการนับว่า มีข้อมูลกี่คู่ในลิสต์ที่ตัวทางซ้ายมีค่ามากกว่าตัวทางขวา (ไม่จำเป็นต้องอยู่ติดกัน)\n",
        "\n",
        "x = [1, 5, 4, 2, 1]"
      ],
      "metadata": {
        "id": "FCZpmtuFXKUl"
      }
    },
    {
      "cell_type": "code",
      "source": [
        "x = [-1, 5, -1, -1, -1]\n",
        "amount_more = 0\n",
        "for i in range(len(x)):\n",
        "    for j in range(i+1,5):\n",
        "        if x[i] > x[j]:\n",
        "            amount_more += 1\n",
        "print(amount_more)\n"
      ],
      "metadata": {
        "id": "VBgfWEXuXjQH",
        "colab": {
          "base_uri": "https://localhost:8080/"
        },
        "outputId": "7c0f48cd-4252-46d2-bcde-65ee474e99f9"
      },
      "execution_count": null,
      "outputs": [
        {
          "output_type": "stream",
          "name": "stdout",
          "text": [
            "3\n"
          ]
        }
      ]
    },
    {
      "cell_type": "markdown",
      "source": [
        "4.\tให้ตรวจสอบว่า String ที่รับเข้ามาผ่านคีย์บอร์ด เป็นตัวอักษรพิมพ์เล็ก หรือตัวอักษรพิมพ์ใหญ่ อย่างละกี่ตัว ตอบ 2 บรรทัด พิมพ์เล็ก 1 บรรทัด พิมพ์ใหญ่ 1 บรรทัด\n",
        "\n",
        "klfjslkgD;FGK;LSDKdl;gfk;\n",
        "=> 18,3"
      ],
      "metadata": {
        "id": "UAEC1_jdXjya"
      }
    },
    {
      "cell_type": "code",
      "source": [
        "string = input()\n",
        "upper_total = 0\n",
        "lower_total = 0\n",
        "for char in string:\n",
        "    if char.isupper() == True:\n",
        "        upper_total += 1\n",
        "    elif char.islower() == True:\n",
        "        lower_total += 1\n",
        "print(f\"{lower_total},{upper_total}\")"
      ],
      "metadata": {
        "id": "rSYwEhjEYY8N",
        "colab": {
          "base_uri": "https://localhost:8080/"
        },
        "outputId": "55082b4c-e528-4eb3-adae-77659fa8ecd9"
      },
      "execution_count": null,
      "outputs": [
        {
          "output_type": "stream",
          "name": "stdout",
          "text": [
            "klfjslkgD;FGK;LSDKdl;gfk\n",
            "13,8\n"
          ]
        }
      ]
    },
    {
      "cell_type": "markdown",
      "source": [
        "5.\tจงเขียนโปรแกรมที่หาตัวเลขระหว่าง 1000 และ 3000 ที่ทุกหลักเป็นเลขคู่ (รวม 1000 และ 3000) โดยแสดงผลในรูปแบบตัวเลขคั่นด้วย comma\n",
        "\n",
        "2000,2002,2004,2006,2008,2020,2022,2024,2026,2028,2040,2042,2044,2046,2048,2060,2062,2064,2066,2068,2080,2082,2084,2086,2088,2200,2202,2204,2206,2208,2220,2222,2224,2226,2228,2240,2242,2244,2246,2248,2260,2262,2264,2266,2268,2280,2282,2284,2286,2288,2400,2402,2404,2406,2408,2420,2422,2424,2426,2428,2440,2442,2444,2446,2448,2460,2462,2464,2466,2468,2480,2482,2484,2486,2488,2600,2602,2604,2606,2608,2620,2622,2624,2626,2628,2640,2642,2644,2646,2648,2660,2662,2664,2666,2668,2680,2682,2684,2686,2688,2800,2802,2804,2806,2808,2820,2822,2824,2826,2828,2840,2842,2844,2846,2848,2860,2862,2864,2866,2868,2880,2882,2884,2886,2888,"
      ],
      "metadata": {
        "id": "lBtvmw_sYYX_"
      }
    },
    {
      "cell_type": "code",
      "source": [
        "starter_num = 1000\n",
        "end_num = 3000\n",
        "digit = []\n",
        "count = 0\n",
        "while starter_num < end_num +1:\n",
        "  i= 0\n",
        "  digit += str(starter_num)\n",
        "  while i < len(digit):\n",
        "    if int(digit[i]) % 2 == 0:\n",
        "        if count == 3 :\n",
        "            print(''.join(digit),end=',')\n",
        "            count = 0\n",
        "        else :\n",
        "            count +=1\n",
        "    else:\n",
        "        count = 0\n",
        "    i+=1\n",
        "  digit = []\n",
        "  starter_num +=1\n"
      ],
      "metadata": {
        "id": "VvChTQMjYqYi",
        "colab": {
          "base_uri": "https://localhost:8080/"
        },
        "outputId": "1e59bccc-95e6-4795-9f92-fb80ae3406ba"
      },
      "execution_count": null,
      "outputs": [
        {
          "output_type": "stream",
          "name": "stdout",
          "text": [
            "2000,2002,2004,2006,2008,2020,2022,2024,2026,2028,2040,2042,2044,2046,2048,2060,2062,2064,2066,2068,2080,2082,2084,2086,2088,2200,2202,2204,2206,2208,2220,2222,2224,2226,2228,2240,2242,2244,2246,2248,2260,2262,2264,2266,2268,2280,2282,2284,2286,2288,2400,2402,2404,2406,2408,2420,2422,2424,2426,2428,2440,2442,2444,2446,2448,2460,2462,2464,2466,2468,2480,2482,2484,2486,2488,2600,2602,2604,2606,2608,2620,2622,2624,2626,2628,2640,2642,2644,2646,2648,2660,2662,2664,2666,2668,2680,2682,2684,2686,2688,2800,2802,2804,2806,2808,2820,2822,2824,2826,2828,2840,2842,2844,2846,2848,2860,2862,2864,2866,2868,2880,2882,2884,2886,2888,"
          ]
        }
      ]
    },
    {
      "cell_type": "markdown",
      "source": [
        "6.\tในคณิตศาสตร์ ตัวหารร่วมมาก หรือ ห.ร.ม. (greatest common divisor: gcd) ของจำนวนเต็มสองจำนวนซึ่งไม่เป็นศูนย์พร้อมกัน คือจำนวนเต็มที่มากที่สุดที่หารทั้งสองจำนวนลงตัว\n",
        "จงหา ห.ร.ม. ของจำนวนเต็ม 2 จำนวนที่กำหนดให้\n",
        "ข้อมูลนำเข้า\n",
        "บรรทัดแรกเพียงบรรทัดเดียว ประกอบไปด้วยจำนวนเต็มบวกสองจำนวน a และ b มีค่าไม่เกิน 9999\n",
        "ข้อมูลส่งออก\n",
        "ในบรรทัดแรกของข้อมูลส่งออก ให้แสดงค่า ห.ร.ม. ของ a และ b\n",
        "เช่น \tInput : 12 14\t\tOutput : 2\n",
        "\tInput : 7 3\t\tOutput : 1\n",
        "\n",
        "678\n",
        "345\n",
        "=> 3"
      ],
      "metadata": {
        "id": "6TCedRC8YqyU"
      }
    },
    {
      "cell_type": "code",
      "source": [
        "n1,n2 =  input().split()\n",
        "n1 = int(n1)\n",
        "n2 = int(n2)\n",
        "while n1 != n2:\n",
        "    if n1 > n2:\n",
        "        n1 -= n2\n",
        "    else:\n",
        "        n2 -= n1\n",
        "print(n1)"
      ],
      "metadata": {
        "id": "yrD4p2Q6Y6qr",
        "colab": {
          "base_uri": "https://localhost:8080/"
        },
        "outputId": "ec3b784d-da5a-4e24-af81-2c790f37ee80"
      },
      "execution_count": null,
      "outputs": [
        {
          "output_type": "stream",
          "name": "stdout",
          "text": [
            "10 5\n",
            "5\n"
          ]
        }
      ]
    },
    {
      "cell_type": "markdown",
      "source": [
        "7.\tจงเขียนโปรแกรมที่คำนวณค่าของ a+aa+aaa+aaaa เมื่อรับข้อมูลเป็นตัวเลข 1 หลัก\n",
        "\n",
        "Input : 9\n",
        "\n",
        "Output : 11106 (=9+99+999+9999)\n"
      ],
      "metadata": {
        "id": "DW9riUdiY7KK"
      }
    },
    {
      "cell_type": "code",
      "source": [
        "num = input()\n",
        "string_num = str(num)\n",
        "num_item = []\n",
        "result = 0\n",
        "if int(num) >= 0 and int(num) <= 9:\n",
        "    for i in range(4):\n",
        "        num_item += string_num\n",
        "        for j in range(i):\n",
        "                num_item[i] += string_num\n",
        "        result += int(num_item[i])\n",
        "    print(\"+\".join(num_item),f\"= {result}\")\n",
        "else:\n",
        "    print('Error ค่าที่รับเข้ามาต้องมากกว่า 0 และ หลักเดียวเท่านั้น!!')"
      ],
      "metadata": {
        "id": "iAZlPfC4Y-GG",
        "colab": {
          "base_uri": "https://localhost:8080/"
        },
        "outputId": "e84be6ee-103d-4dd9-c720-a8733b6479e3"
      },
      "execution_count": 1,
      "outputs": [
        {
          "output_type": "stream",
          "name": "stdout",
          "text": [
            "9\n",
            "9+99+999+9999 = 11106\n"
          ]
        }
      ]
    },
    {
      "cell_type": "markdown",
      "source": [
        ":8.\tแปลงเลขโรมัน เป็นเลขอารบิก เช่น MMMDCCXXIV = 3724 (ค้นหาวิธีทางทางอินเตอร์เน็ต)\n"
      ],
      "metadata": {
        "id": "G3jPCyruZAZY"
      }
    },
    {
      "cell_type": "code",
      "source": [
        "roman_value = [1,4,5,10,50,100,500,1000]\n",
        "roman_char = ['I','IV','V','X','L','C','D','M']\n",
        "roman_input = input()\n",
        "sumofroman = 0\n",
        "for i in range(0,len(roman_input),2):\n",
        "    char_roman_two = roman_input[i:i+2]\n",
        "    if char_roman_two in roman_char:\n",
        "        for postiton_char in range(len(roman_char)):\n",
        "            if char_roman_two == roman_char[postiton_char]:\n",
        "                sumofroman += roman_value[postiton_char]\n",
        "    else:\n",
        "        i = 0\n",
        "        while i < len(char_roman_two):\n",
        "            char_roman_one = char_roman_two[i]\n",
        "            if char_roman_one in roman_char:\n",
        "                for postiton_char in range(len(roman_char)):\n",
        "                    if char_roman_one == roman_char[postiton_char]:\n",
        "                        sumofroman += roman_value[postiton_char]\n",
        "            else:\n",
        "                break\n",
        "            i+=1\n",
        "print(sumofroman)"
      ],
      "metadata": {
        "id": "6RBWGF4IZGnc",
        "colab": {
          "base_uri": "https://localhost:8080/"
        },
        "outputId": "4898d33e-454d-4725-c3a4-90b4ba805001"
      },
      "execution_count": null,
      "outputs": [
        {
          "output_type": "stream",
          "name": "stdout",
          "text": [
            "MMMDCCXXIV\n",
            "3724\n"
          ]
        }
      ]
    },
    {
      "cell_type": "markdown",
      "source": [
        "9.\tอนุกรม Fibonacci คือ อนุกรมที่ตัวที่ 3 เป็นต้นไปเกิดจาก 2 ตัวหน้าบวกกัน จงเขียนโปรแกรมแสดงอนุกรม\n",
        "เช่น ตั้งแต่ 0-1000 คือ 0, 1, 1, 2, 3, 5, 8, 13, 21, 34, 55, 89, 144, 233, 377, 610, 987\n"
      ],
      "metadata": {
        "id": "SJBVkaFHZHKe"
      }
    },
    {
      "cell_type": "code",
      "source": [
        "x = 0\n",
        "y = 1\n",
        "res = 0\n",
        "for i in range(0,1001):\n",
        "    if i <= 0:\n",
        "        print(x,end=' ')\n",
        "        print(y,end=' ')\n",
        "    else:\n",
        "            res = x+y\n",
        "            if res <= 1000:\n",
        "              print(res,end=' ')\n",
        "            x = y\n",
        "            y = res"
      ],
      "metadata": {
        "id": "Vdtc9KqSZLls",
        "colab": {
          "base_uri": "https://localhost:8080/"
        },
        "outputId": "2463244a-d799-4893-d4e9-ba78ff3c9c6f"
      },
      "execution_count": null,
      "outputs": [
        {
          "output_type": "stream",
          "name": "stdout",
          "text": [
            "0 1 1 2 3 5 8 13 21 34 55 89 144 233 377 610 987 "
          ]
        }
      ]
    },
    {
      "cell_type": "markdown",
      "source": [
        "10.\tให้สร้างโปรแกรม True Love โดยรับชื่อภาษาอังกฤษของ 2 คน จากนั้นค้นหาว่ามีตัวอักษรอยู่ในคำว่า True และ Love รวมกันกี่ตัว จากนั้นนำมาต่อกันเป็น % ตามรูป (ไม่ต้องแสดงเครื่องหมาย %)"
      ],
      "metadata": {
        "id": "1ykDG1H4ZKd4"
      }
    },
    {
      "cell_type": "code",
      "source": [
        "my_name = input().strip(' ')\n",
        "your_name  = input().strip(' ')\n",
        "mix_name = []\n",
        "mix_name += my_name\n",
        "mix_name += your_name\n",
        "char_oflove = [['t','T'],['r','R'],['u','U'],['e','E'],['L','l'],['o','O'],['v','V'],['e','E']]\n",
        "true_sum = 0\n",
        "i = 0\n",
        "love_sum = 0\n",
        "value_oflove = [0,0,0,0,0,0,0,0]\n",
        "for postiton_oflove in range(len(char_oflove)):\n",
        "    char = char_oflove[postiton_oflove]\n",
        "    for char_input in mix_name:\n",
        "        if char[1] == char_input[0] or char[0] == char_input:\n",
        "            value_oflove[postiton_oflove] += 1\n",
        "while i < len(value_oflove):\n",
        "    if i <= 3:\n",
        "        true_sum += value_oflove[i]\n",
        "    else:\n",
        "        love_sum += value_oflove[i]\n",
        "    i +=1\n",
        "\n",
        "print(f\"\"\"\n",
        "T {value_oflove[0]}  L {value_oflove[4]}\n",
        "r {value_oflove[1]}  o {value_oflove[5]}\n",
        "u {value_oflove[2]}  v {value_oflove[6]}\n",
        "e {value_oflove[3]}  e {value_oflove[7]}\n",
        "----------\n",
        "  {true_sum}{love_sum}\n",
        "\n",
        "\"\"\")"
      ],
      "metadata": {
        "id": "syOZPpj2ZPaA",
        "colab": {
          "base_uri": "https://localhost:8080/"
        },
        "outputId": "1321e421-e47a-4815-b429-5de3333c7587"
      },
      "execution_count": null,
      "outputs": [
        {
          "output_type": "stream",
          "name": "stdout",
          "text": [
            "Aubrey Drake Graham\n",
            "Krytie Lee Yandoli  \n",
            "\n",
            "T 1  L 2\n",
            "r 4  o 1\n",
            "u 1  v 0\n",
            "e 5  e 5\n",
            "----------\n",
            "  118\n",
            "                \n",
            "\n"
          ]
        }
      ]
    }
  ]
}