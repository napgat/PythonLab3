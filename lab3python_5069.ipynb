{
  "nbformat": 4,
  "nbformat_minor": 0,
  "metadata": {
    "colab": {
      "provenance": [],
      "include_colab_link": true
    },
    "kernelspec": {
      "name": "python3",
      "display_name": "Python 3"
    },
    "language_info": {
      "name": "python"
    }
  },
  "cells": [
    {
      "cell_type": "markdown",
      "metadata": {
        "id": "view-in-github",
        "colab_type": "text"
      },
      "source": [
        "<a href=\"https://colab.research.google.com/github/napgat/PythonLab3/blob/main/lab3python_5069.ipynb\" target=\"_parent\"><img src=\"https://colab.research.google.com/assets/colab-badge.svg\" alt=\"Open In Colab\"/></a>"
      ]
    },
    {
      "cell_type": "markdown",
      "source": [
        "# Exercise 3\n",
        "\n",
        "3.1 จากข้อมูลใน List ให้หาผลบวกเฉพาะตัวเลขคู่ โดยใช้ While Loop\n",
        "\n",
        "list1 = [1, 2, 3, 4, 5, 6, 7, 8, 9, 11, 13]\n",
        "\n"
      ],
      "metadata": {
        "id": "8LZVzcOUVMor"
      }
    },
    {
      "cell_type": "code",
      "execution_count": null,
      "metadata": {
        "id": "2cTrxjMXUE2n",
        "outputId": "b0a7c0b2-e736-4b98-9e6c-496975a96f7c",
        "colab": {
          "base_uri": "https://localhost:8080/"
        }
      },
      "outputs": [
        {
          "output_type": "stream",
          "name": "stdout",
          "text": [
            "2\n",
            "4\n",
            "6\n",
            "8\n"
          ]
        }
      ],
      "source": [
        "list1 = [1, 2, 3, 4, 5, 6, 7, 8, 9, 11, 13]\n",
        "\n",
        "for i in list1:\n",
        "  if i%2==0:\n",
        "    print(i)"
      ]
    },
    {
      "cell_type": "markdown",
      "source": [
        "3.2 จากข้อมูลใน List ให้หาตัวเลขที่มีค่ามากที่สุดเป็นอันดับ 2 ใน List โดยใช้ While Loop\n",
        "\n",
        "list = [-5, 7, 10, 1, 2, 5, 8, 100]\n"
      ],
      "metadata": {
        "id": "uPvbrsO_Vimb"
      }
    },
    {
      "cell_type": "code",
      "source": [
        "list = [-5, 7, 10, 1, 2, 5, 8, 100]\n",
        "i = 0\n",
        "most_value1 = list[0]\n",
        "most_value2 = 0\n",
        "while i < len(list):\n",
        "  if not most_value1 > list[i]:\n",
        "    most_value2 = most_value1\n",
        "    most_value1 = list[i]\n",
        "  i+=1\n",
        "print(most_value2)\n"
      ],
      "metadata": {
        "id": "iUeJ91zfVr1Z",
        "colab": {
          "base_uri": "https://localhost:8080/"
        },
        "outputId": "c476d6d0-f3b9-4aad-abc9-b4f0af6596f9"
      },
      "execution_count": null,
      "outputs": [
        {
          "output_type": "stream",
          "name": "stdout",
          "text": [
            "10\n"
          ]
        }
      ]
    },
    {
      "cell_type": "markdown",
      "source": [
        "3.3 เขียนโปรแกรมรับค่า n แล้วคำนวณค่าต่อไปนี้\n",
        "\n",
        "$1/1^2 + 1/2^2 + 1/3^2 + 1/4^2 + 1/5^2 + … +  1/n^2$\n"
      ],
      "metadata": {
        "id": "udBZzWe9VsU7"
      }
    },
    {
      "cell_type": "code",
      "source": [
        "num_input = int(input())\n",
        "start_point = 1\n",
        "sum = 0.0\n",
        "while start_point <= num_input:\n",
        "    sum += 1/(start_point**2)\n",
        "    start_point+=1\n",
        "print(round(sum,2))"
      ],
      "metadata": {
        "id": "xtBw7zuxWEZ4",
        "colab": {
          "base_uri": "https://localhost:8080/"
        },
        "outputId": "07f25e9a-48aa-4925-b85d-ea236609ad31"
      },
      "execution_count": null,
      "outputs": [
        {
          "output_type": "stream",
          "name": "stdout",
          "text": [
            "9\n",
            "1.54\n"
          ]
        }
      ]
    },
    {
      "cell_type": "markdown",
      "source": [
        "3.4 จากข้อมูลใน List ให้ตรวจสอบว่า ข้อมูลในลิสต์ s เรียงลำดับจากน้อยไปมากหรือไม่ ตอบเป็น True, False\n",
        "\n",
        "\t[1,2,3,4,5], [5,4,3,2,1]\n"
      ],
      "metadata": {
        "id": "o-6AnE5zWFJJ"
      }
    },
    {
      "cell_type": "code",
      "source": [
        "list_1 = [1,2,3,4,5]\n",
        "list_2 = [5,4,3,2,1]\n",
        "selected_list = list_2\n",
        "next_num = selected_list[1]\n",
        "result = False\n",
        "for i in range(len(selected_list)):\n",
        "    if selected_list[i] > selected_list[next_num]:\n",
        "        result = True\n",
        "        continue\n",
        "    else:\n",
        "        result = False\n",
        "print(result)\n"
      ],
      "metadata": {
        "id": "LYG2sGGgWNei",
        "colab": {
          "base_uri": "https://localhost:8080/"
        },
        "outputId": "b0d229f7-d9b1-413f-849e-a4229ef8cbdb"
      },
      "execution_count": null,
      "outputs": [
        {
          "output_type": "stream",
          "name": "stdout",
          "text": [
            "False\n"
          ]
        }
      ]
    },
    {
      "cell_type": "markdown",
      "source": [
        "3.5  ให้ x เป็นลิสต์เก็บคะแนน ต้องการปรับช่องที่มีค่าน้อยกว่า 30 ให้มีค่าเพิ่มอีก 10% แสดงผลลัพธ์ เป็น List\n",
        "\n",
        "\tx = [60, 70, 72, 65, 55, 43, 20, 90, 12]\n"
      ],
      "metadata": {
        "id": "Hv-fE32hWOBd"
      }
    },
    {
      "cell_type": "code",
      "source": [
        "x = [60, 70, 72, 65, 55, 43, 20, 90, 12]\n",
        "for i in range(len(x)):\n",
        "  if x[i] < 30:\n",
        "    x[i] = x[i]+(x[i]*0.1)\n",
        "print(x)"
      ],
      "metadata": {
        "id": "BSFOJ_8GWTtL",
        "colab": {
          "base_uri": "https://localhost:8080/"
        },
        "outputId": "21ac8673-28d0-4059-9620-8b98ab5525cd"
      },
      "execution_count": null,
      "outputs": [
        {
          "output_type": "stream",
          "name": "stdout",
          "text": [
            "[60, 70, 72, 65, 55, 43, 22.0, 90, 13.2]\n"
          ]
        }
      ]
    },
    {
      "cell_type": "markdown",
      "source": [
        "3.6 ต้องการหาผลรวมของคะแนนที่เก็บในลิสต์ x โดยขอไม่รวมคะแนนที่น้อยสุดอันดับ 2\n",
        "\n",
        "\tx = [15, 80, 75, 62, 55, 43, 99, 67, 10]\n"
      ],
      "metadata": {
        "id": "IDw88nQbWUTw"
      }
    },
    {
      "cell_type": "code",
      "source": [
        "x = [15, 80, 75, 62, 55, 43, 99, 67, 10]\n",
        "i = 0\n",
        "most_value1 = x[0]\n",
        "most_value2 = 0\n",
        "while i < len(x):\n",
        "  if not most_value1 > x[i]:\n",
        "    most_value2 = most_value1\n",
        "    most_value1 = x[i]\n",
        "  i+=1\n",
        "sum_total = 0\n",
        "for p in x:\n",
        "    if p == most_value2:\n",
        "        continue\n",
        "    else:\n",
        "        sum_total += p\n",
        "print(sum_total)"
      ],
      "metadata": {
        "id": "Aool1F22WZKI",
        "colab": {
          "base_uri": "https://localhost:8080/"
        },
        "outputId": "a8847802-cba4-48d8-c0cb-e00485dea758"
      },
      "execution_count": null,
      "outputs": [
        {
          "output_type": "stream",
          "name": "stdout",
          "text": [
            "426\n"
          ]
        }
      ]
    },
    {
      "cell_type": "markdown",
      "source": [
        "3.7 จากข้อมูลใน List ให้แสดง string ที่มีความยาวมากกว่า 2 และมีอักษรตัวแรกกับตัวสุดท้ายเหมือนกัน แสดงบรรทัดละ 1 ตัว\n",
        "\n",
        "\tlst = ['abba', 'a', 'aa', 'alcaza', 'python', 'stores', 'program', 'execute']\n"
      ],
      "metadata": {
        "id": "92oZ0IQdWZkF"
      }
    },
    {
      "cell_type": "code",
      "source": [
        "lst = ['abba', 'a', 'aa', 'alcaza', 'python', 'stores', 'program', 'execute']\n",
        "count_spell = 0\n",
        "for name in lst:\n",
        "    for spell in name:\n",
        "        if count_spell > 2:\n",
        "            if name[0] == name[-1]:\n",
        "                print(name)\n",
        "                break\n",
        "        count_spell +=1\n",
        "    count_spell = 0"
      ],
      "metadata": {
        "id": "i3vr0x1vWiHH",
        "colab": {
          "base_uri": "https://localhost:8080/"
        },
        "outputId": "e967a602-7514-4d6f-eb8f-9fcf3e36dec1"
      },
      "execution_count": null,
      "outputs": [
        {
          "output_type": "stream",
          "name": "stdout",
          "text": [
            "abba\n",
            "alcaza\n",
            "stores\n",
            "execute\n"
          ]
        }
      ]
    },
    {
      "cell_type": "markdown",
      "source": [
        "3.8 จากข้อมูลใน List ให้ลบข้อมูลที่มีซ้ำกันให้เหลือเพียงตัวเดียว ให้แสดงผลเป็น list เช่น\n",
        "\n",
        "[‘a’,’a’] => [‘a’]\n",
        "\n",
        "lst = ['a', 'a', 'b', 'a', 'b', 'c', 'd']\n"
      ],
      "metadata": {
        "id": "QicYHZbcWi8U"
      }
    },
    {
      "cell_type": "code",
      "source": [
        "lst = ['a', 'a', 'b', 'a', 'b', 'c', 'd']\n",
        "new_list = []\n",
        "selected = lst[0]\n",
        "amount_lst = len(lst)\n",
        "for a in range(amount_lst):\n",
        "    if not lst[a] in new_list:\n",
        "        new_list.append(lst[a])\n",
        "lst = new_list\n",
        "print(lst)"
      ],
      "metadata": {
        "id": "saXxuMceWzd2",
        "colab": {
          "base_uri": "https://localhost:8080/"
        },
        "outputId": "369e6ae8-a3f5-4485-d311-590f332dccd2"
      },
      "execution_count": null,
      "outputs": [
        {
          "output_type": "stream",
          "name": "stdout",
          "text": [
            "['a', 'b', 'c', 'd']\n"
          ]
        }
      ]
    },
    {
      "cell_type": "markdown",
      "source": [
        "3.9 จากข้อมูลใน List ให้แสดงว่าแต่ละข้อมูลใน List มีจำนวนเท่าไร คือ มีซ้ำกันกี่ตัวใน List  ให้แสดงบรรทัดละตัว เช่น\n",
        "\n",
        "\t[1, 2, 3, 4, 1, 2, 3, 1, 2, 1]\n",
        "\t1 = 4\n",
        "\t2 = 3\n",
        "\t3 = 2\n",
        "\t4 = 1\n",
        "  \n",
        "\tlst = [1,2,3,4,5,1,2,3,4,1,2,3,1,2,1]"
      ],
      "metadata": {
        "id": "Dl6OEM9nWz8s"
      }
    },
    {
      "cell_type": "code",
      "source": [
        "list = [1,2,3,4,5,1,2,3,4,1,2,3,1,2,1]\n",
        "list_again = []\n",
        "i = 0\n",
        "len_list = len(list)\n",
        "sum = 0\n",
        "n = 1\n",
        "for num in list:\n",
        "    if not num in list_again:\n",
        "        list_again.append(num)\n",
        "while i < len(list_again)-1:\n",
        "    n = 0\n",
        "    while n < len_list:\n",
        "        if list[i] == list[n]:\n",
        "            sum += 1\n",
        "        n +=1\n",
        "    sum = sum -1\n",
        "    if sum > 0:\n",
        "        print(f\"{list[i]} = {sum}\")\n",
        "        sum= 0\n",
        "    i = i+1"
      ],
      "metadata": {
        "id": "Dm0dAivtW7vQ",
        "colab": {
          "base_uri": "https://localhost:8080/"
        },
        "outputId": "e8474ecf-21fb-4538-f10a-537a52d4406d"
      },
      "execution_count": null,
      "outputs": [
        {
          "output_type": "stream",
          "name": "stdout",
          "text": [
            "1 = 4\n",
            "2 = 3\n",
            "3 = 2\n",
            "4 = 1\n"
          ]
        }
      ]
    },
    {
      "cell_type": "markdown",
      "source": [
        "1.\tเขียนโปรแกรมเพื่อหาผลบวกของอนุกรม 5+10+15+20+… จนถึง n เมื่อ n เป็นตัวเลขที่รับเข้ามาทางคีย์บอร์ด"
      ],
      "metadata": {
        "id": "GgbgWOV6W8Nn"
      }
    },
    {
      "cell_type": "code",
      "source": [
        "num = int(input())\n",
        "step = 5\n",
        "sum = 0\n",
        "for i in range(num):\n",
        "  sum += step\n",
        "  step += 5\n",
        "print(sum)"
      ],
      "metadata": {
        "id": "9cCHZsLhXGKm",
        "colab": {
          "base_uri": "https://localhost:8080/"
        },
        "outputId": "c309a28c-e25f-44f2-d40a-cf12963b7cce"
      },
      "execution_count": null,
      "outputs": [
        {
          "output_type": "stream",
          "name": "stdout",
          "text": [
            "5\n",
            "75\n"
          ]
        }
      ]
    },
    {
      "cell_type": "markdown",
      "source": [
        "2.\tจงเขียนโปรแกรมที่จะหาตัวเลขระหว่าง 2000-3200 ที่หารด้วย 7 ลงตัว แต่หารด้วย 5 ไม่ลงตัว\n",
        "การแสดงผลให้แสดงตัวเลขและคั่นด้วยเครื่องหมาย , ในบรรทัดเดียว\n",
        "\n",
        "2002,2009,2016,2023,2037,2044,2051,2058,2072,2079,2086,2093,2107,2114,2121,2128,2142,2149,2156,2163,2177,2184,2191,2198,2212,2219,2226,2233,2247,2254,2261,2268,2282,2289,2296,2303,2317,2324,2331,2338,2352,2359,2366,2373,2387,2394,2401,2408,2422,2429,2436,2443,2457,2464,2471,2478,2492,2499,2506,2513,2527,2534,2541,2548,2562,2569,2576,2583,2597,2604,2611,2618,2632,2639,2646,2653,2667,2674,2681,2688,2702,2709,2716,2723,2737,2744,2751,2758,2772,2779,2786,2793,2807,2814,2821,2828,2842,2849,2856,2863,2877,2884,2891,2898,2912,2919,2926,2933,2947,2954,2961,2968,2982,2989,2996,3003,3017,3024,3031,3038,3052,3059,3066,3073,3087,3094,3101,3108,3122,3129,3136,3143,3157,3164,3171,3178,3192,3199,"
      ],
      "metadata": {
        "id": "aujapFNTXGsV"
      }
    },
    {
      "cell_type": "code",
      "source": [
        "starter_num = 2000\n",
        "end_num = 3200\n",
        "while starter_num < end_num +1:\n",
        "  if starter_num % 7 == 0 and starter_num % 5 != 0:\n",
        "    print(starter_num,end=',')\n",
        "  starter_num += 1\n"
      ],
      "metadata": {
        "id": "L-kIF3-nXJqR",
        "colab": {
          "base_uri": "https://localhost:8080/"
        },
        "outputId": "5a72f67f-8eca-44a6-cadb-ec41ff5488b3"
      },
      "execution_count": null,
      "outputs": [
        {
          "output_type": "stream",
          "name": "stdout",
          "text": [
            "2002,2009,2016,2023,2037,2044,2051,2058,2072,2079,2086,2093,2107,2114,2121,2128,2142,2149,2156,2163,2177,2184,2191,2198,2212,2219,2226,2233,2247,2254,2261,2268,2282,2289,2296,2303,2317,2324,2331,2338,2352,2359,2366,2373,2387,2394,2401,2408,2422,2429,2436,2443,2457,2464,2471,2478,2492,2499,2506,2513,2527,2534,2541,2548,2562,2569,2576,2583,2597,2604,2611,2618,2632,2639,2646,2653,2667,2674,2681,2688,2702,2709,2716,2723,2737,2744,2751,2758,2772,2779,2786,2793,2807,2814,2821,2828,2842,2849,2856,2863,2877,2884,2891,2898,2912,2919,2926,2933,2947,2954,2961,2968,2982,2989,2996,3003,3017,3024,3031,3038,3052,3059,3066,3073,3087,3094,3101,3108,3122,3129,3136,3143,3157,3164,3171,3178,3192,3199,"
          ]
        }
      ]
    },
    {
      "cell_type": "markdown",
      "source": [
        "3.\tจากข้อมูลใน List ต้องการนับว่า มีข้อมูลกี่คู่ในลิสต์ที่ตัวทางซ้ายมีค่ามากกว่าตัวทางขวา (ไม่จำเป็นต้องอยู่ติดกัน)\n",
        "\n",
        "x = [1, 5, 4, 2, 1]"
      ],
      "metadata": {
        "id": "FCZpmtuFXKUl"
      }
    },
    {
      "cell_type": "code",
      "source": [
        "x = [-1, 5, -1, -1, -1]\n",
        "amount_more = 0\n",
        "for i in range(len(x)):\n",
        "    for j in range(i+1,5):\n",
        "        if x[i] > x[j]:\n",
        "            amount_more += 1\n",
        "print(amount_more)\n"
      ],
      "metadata": {
        "id": "VBgfWEXuXjQH",
        "colab": {
          "base_uri": "https://localhost:8080/"
        },
        "outputId": "7c0f48cd-4252-46d2-bcde-65ee474e99f9"
      },
      "execution_count": null,
      "outputs": [
        {
          "output_type": "stream",
          "name": "stdout",
          "text": [
            "3\n"
          ]
        }
      ]
    },
    {
      "cell_type": "markdown",
      "source": [
        "4.\tให้ตรวจสอบว่า String ที่รับเข้ามาผ่านคีย์บอร์ด เป็นตัวอักษรพิมพ์เล็ก หรือตัวอักษรพิมพ์ใหญ่ อย่างละกี่ตัว ตอบ 2 บรรทัด พิมพ์เล็ก 1 บรรทัด พิมพ์ใหญ่ 1 บรรทัด\n",
        "\n",
        "klfjslkgD;FGK;LSDKdl;gfk;\n",
        "=> 18,3"
      ],
      "metadata": {
        "id": "UAEC1_jdXjya"
      }
    },
    {
      "cell_type": "code",
      "source": [
        "string = input()\n",
        "upper_total = 0\n",
        "lower_total = 0\n",
        "for char in string:\n",
        "    if char.isupper() == True:\n",
        "        upper_total += 1\n",
        "    elif char.islower() == True:\n",
        "        lower_total += 1\n",
        "print(f\"{lower_total},{upper_total}\")"
      ],
      "metadata": {
        "id": "rSYwEhjEYY8N",
        "colab": {
          "base_uri": "https://localhost:8080/"
        },
        "outputId": "55082b4c-e528-4eb3-adae-77659fa8ecd9"
      },
      "execution_count": null,
      "outputs": [
        {
          "output_type": "stream",
          "name": "stdout",
          "text": [
            "klfjslkgD;FGK;LSDKdl;gfk\n",
            "13,8\n"
          ]
        }
      ]
    },
    {
      "cell_type": "markdown",
      "source": [
        "5.\tจงเขียนโปรแกรมที่หาตัวเลขระหว่าง 1000 และ 3000 ที่ทุกหลักเป็นเลขคู่ (รวม 1000 และ 3000) โดยแสดงผลในรูปแบบตัวเลขคั่นด้วย comma\n",
        "\n",
        "2000,2002,2004,2006,2008,2020,2022,2024,2026,2028,2040,2042,2044,2046,2048,2060,2062,2064,2066,2068,2080,2082,2084,2086,2088,2200,2202,2204,2206,2208,2220,2222,2224,2226,2228,2240,2242,2244,2246,2248,2260,2262,2264,2266,2268,2280,2282,2284,2286,2288,2400,2402,2404,2406,2408,2420,2422,2424,2426,2428,2440,2442,2444,2446,2448,2460,2462,2464,2466,2468,2480,2482,2484,2486,2488,2600,2602,2604,2606,2608,2620,2622,2624,2626,2628,2640,2642,2644,2646,2648,2660,2662,2664,2666,2668,2680,2682,2684,2686,2688,2800,2802,2804,2806,2808,2820,2822,2824,2826,2828,2840,2842,2844,2846,2848,2860,2862,2864,2866,2868,2880,2882,2884,2886,2888,"
      ],
      "metadata": {
        "id": "lBtvmw_sYYX_"
      }
    },
    {
      "cell_type": "code",
      "source": [
        "starter_num = 2000\n",
        "end_num = 3000\n",
        "digit = []\n",
        "count = 0\n",
        "while starter_num < end_num +1:\n",
        "  i= 0\n",
        "  digit += str(starter_num)\n",
        "  while i < len(digit):\n",
        "    if int(digit[i]) % 2 == 0:\n",
        "        if count == 3 :\n",
        "            print(''.join(digit),end=',')\n",
        "            count = 0\n",
        "        else :\n",
        "            count +=1\n",
        "    else:\n",
        "        count = 0\n",
        "    i+=1\n",
        "  digit = []\n",
        "  starter_num +=1\n"
      ],
      "metadata": {
        "id": "VvChTQMjYqYi",
        "colab": {
          "base_uri": "https://localhost:8080/"
        },
        "outputId": "5b213a15-49fa-48e1-8bcb-30dbb810dea2"
      },
      "execution_count": null,
      "outputs": [
        {
          "output_type": "stream",
          "name": "stdout",
          "text": [
            "1000,1002,1004,1006,1008,1010,1012,1014,1016,1018,1020,1022,1024,1026,1028,1030,1032,1034,1036,1038,1040,1042,1044,1046,1048,1050,1052,1054,1056,1058,1060,1062,1064,1066,1068,1070,1072,1074,1076,1078,1080,1082,1084,1086,1088,1090,1092,1094,1096,1098,1100,1102,1104,1106,1108,1110,1112,1114,1116,1118,1120,1122,1124,1126,1128,1130,1132,1134,1136,1138,1140,1142,1144,1146,1148,1150,1152,1154,1156,1158,1160,1162,1164,1166,1168,1170,1172,1174,1176,1178,1180,1182,1184,1186,1188,1190,1192,1194,1196,1198,1200,1202,1204,1206,1208,1210,1212,1214,1216,1218,1220,1222,1224,1226,1228,1230,1232,1234,1236,1238,1240,1242,1244,1246,1248,1250,1252,1254,1256,1258,1260,1262,1264,1266,1268,1270,1272,1274,1276,1278,1280,1282,1284,1286,1288,1290,1292,1294,1296,1298,1300,1302,1304,1306,1308,1310,1312,1314,1316,1318,1320,1322,1324,1326,1328,1330,1332,1334,1336,1338,1340,1342,1344,1346,1348,1350,1352,1354,1356,1358,1360,1362,1364,1366,1368,1370,1372,1374,1376,1378,1380,1382,1384,1386,1388,1390,1392,1394,1396,1398,1400,1402,1404,1406,1408,1410,1412,1414,1416,1418,1420,1422,1424,1426,1428,1430,1432,1434,1436,1438,1440,1442,1444,1446,1448,1450,1452,1454,1456,1458,1460,1462,1464,1466,1468,1470,1472,1474,1476,1478,1480,1482,1484,1486,1488,1490,1492,1494,1496,1498,1500,1502,1504,1506,1508,1510,1512,1514,1516,1518,1520,1522,1524,1526,1528,1530,1532,1534,1536,1538,1540,1542,1544,1546,1548,1550,1552,1554,1556,1558,1560,1562,1564,1566,1568,1570,1572,1574,1576,1578,1580,1582,1584,1586,1588,1590,1592,1594,1596,1598,1600,1602,1604,1606,1608,1610,1612,1614,1616,1618,1620,1622,1624,1626,1628,1630,1632,1634,1636,1638,1640,1642,1644,1646,1648,1650,1652,1654,1656,1658,1660,1662,1664,1666,1668,1670,1672,1674,1676,1678,1680,1682,1684,1686,1688,1690,1692,1694,1696,1698,1700,1702,1704,1706,1708,1710,1712,1714,1716,1718,1720,1722,1724,1726,1728,1730,1732,1734,1736,1738,1740,1742,1744,1746,1748,1750,1752,1754,1756,1758,1760,1762,1764,1766,1768,1770,1772,1774,1776,1778,1780,1782,1784,1786,1788,1790,1792,1794,1796,1798,1800,1802,1804,1806,1808,1810,1812,1814,1816,1818,1820,1822,1824,1826,1828,1830,1832,1834,1836,1838,1840,1842,1844,1846,1848,1850,1852,1854,1856,1858,1860,1862,1864,1866,1868,1870,1872,1874,1876,1878,1880,1882,1884,1886,1888,1890,1892,1894,1896,1898,1900,1902,1904,1906,1908,1910,1912,1914,1916,1918,1920,1922,1924,1926,1928,1930,1932,1934,1936,1938,1940,1942,1944,1946,1948,1950,1952,1954,1956,1958,1960,1962,1964,1966,1968,1970,1972,1974,1976,1978,1980,1982,1984,1986,1988,1990,1992,1994,1996,1998,2000,2002,2004,2006,2008,2010,2012,2014,2016,2018,2020,2022,2024,2026,2028,2030,2032,2034,2036,2038,2040,2042,2044,2046,2048,2050,2052,2054,2056,2058,2060,2062,2064,2066,2068,2070,2072,2074,2076,2078,2080,2082,2084,2086,2088,2090,2092,2094,2096,2098,2100,2102,2104,2106,2108,2110,2112,2114,2116,2118,2120,2122,2124,2126,2128,2130,2132,2134,2136,2138,2140,2142,2144,2146,2148,2150,2152,2154,2156,2158,2160,2162,2164,2166,2168,2170,2172,2174,2176,2178,2180,2182,2184,2186,2188,2190,2192,2194,2196,2198,2200,2202,2204,2206,2208,2210,2212,2214,2216,2218,2220,2222,2224,2226,2228,2230,2232,2234,2236,2238,2240,2242,2244,2246,2248,2250,2252,2254,2256,2258,2260,2262,2264,2266,2268,2270,2272,2274,2276,2278,2280,2282,2284,2286,2288,2290,2292,2294,2296,2298,2300,2302,2304,2306,2308,2310,2312,2314,2316,2318,2320,2322,2324,2326,2328,2330,2332,2334,2336,2338,2340,2342,2344,2346,2348,2350,2352,2354,2356,2358,2360,2362,2364,2366,2368,2370,2372,2374,2376,2378,2380,2382,2384,2386,2388,2390,2392,2394,2396,2398,2400,2402,2404,2406,2408,2410,2412,2414,2416,2418,2420,2422,2424,2426,2428,2430,2432,2434,2436,2438,2440,2442,2444,2446,2448,2450,2452,2454,2456,2458,2460,2462,2464,2466,2468,2470,2472,2474,2476,2478,2480,2482,2484,2486,2488,2490,2492,2494,2496,2498,2500,2502,2504,2506,2508,2510,2512,2514,2516,2518,2520,2522,2524,2526,2528,2530,2532,2534,2536,2538,2540,2542,2544,2546,2548,2550,2552,2554,2556,2558,2560,2562,2564,2566,2568,2570,2572,2574,2576,2578,2580,2582,2584,2586,2588,2590,2592,2594,2596,2598,2600,2602,2604,2606,2608,2610,2612,2614,2616,2618,2620,2622,2624,2626,2628,2630,2632,2634,2636,2638,2640,2642,2644,2646,2648,2650,2652,2654,2656,2658,2660,2662,2664,2666,2668,2670,2672,2674,2676,2678,2680,2682,2684,2686,2688,2690,2692,2694,2696,2698,2700,2702,2704,2706,2708,2710,2712,2714,2716,2718,2720,2722,2724,2726,2728,2730,2732,2734,2736,2738,2740,2742,2744,2746,2748,2750,2752,2754,2756,2758,2760,2762,2764,2766,2768,2770,2772,2774,2776,2778,2780,2782,2784,2786,2788,2790,2792,2794,2796,2798,2800,2802,2804,2806,2808,2810,2812,2814,2816,2818,2820,2822,2824,2826,2828,2830,2832,2834,2836,2838,2840,2842,2844,2846,2848,2850,2852,2854,2856,2858,2860,2862,2864,2866,2868,2870,2872,2874,2876,2878,2880,2882,2884,2886,2888,2890,2892,2894,2896,2898,2900,2902,2904,2906,2908,2910,2912,2914,2916,2918,2920,2922,2924,2926,2928,2930,2932,2934,2936,2938,2940,2942,2944,2946,2948,2950,2952,2954,2956,2958,2960,2962,2964,2966,2968,2970,2972,2974,2976,2978,2980,2982,2984,2986,2988,2990,2992,2994,2996,2998,3000,"
          ]
        }
      ]
    },
    {
      "cell_type": "markdown",
      "source": [
        "6.\tในคณิตศาสตร์ ตัวหารร่วมมาก หรือ ห.ร.ม. (greatest common divisor: gcd) ของจำนวนเต็มสองจำนวนซึ่งไม่เป็นศูนย์พร้อมกัน คือจำนวนเต็มที่มากที่สุดที่หารทั้งสองจำนวนลงตัว\n",
        "จงหา ห.ร.ม. ของจำนวนเต็ม 2 จำนวนที่กำหนดให้\n",
        "ข้อมูลนำเข้า\n",
        "บรรทัดแรกเพียงบรรทัดเดียว ประกอบไปด้วยจำนวนเต็มบวกสองจำนวน a และ b มีค่าไม่เกิน 9999\n",
        "ข้อมูลส่งออก\n",
        "ในบรรทัดแรกของข้อมูลส่งออก ให้แสดงค่า ห.ร.ม. ของ a และ b\n",
        "เช่น \tInput : 12 14\t\tOutput : 2\n",
        "\tInput : 7 3\t\tOutput : 1\n",
        "\n",
        "678\n",
        "345\n",
        "=> 3"
      ],
      "metadata": {
        "id": "6TCedRC8YqyU"
      }
    },
    {
      "cell_type": "code",
      "source": [
        "n1,n2 =  input().split()\n",
        "n1 = int(n1)\n",
        "n2 = int(n2)\n",
        "while n1 != n2:\n",
        "    if n1 > n2:\n",
        "        n1 -= n2\n",
        "    else:\n",
        "        n2 -= n1\n",
        "print(n1)"
      ],
      "metadata": {
        "id": "yrD4p2Q6Y6qr",
        "colab": {
          "base_uri": "https://localhost:8080/"
        },
        "outputId": "ec3b784d-da5a-4e24-af81-2c790f37ee80"
      },
      "execution_count": null,
      "outputs": [
        {
          "output_type": "stream",
          "name": "stdout",
          "text": [
            "10 5\n",
            "5\n"
          ]
        }
      ]
    },
    {
      "cell_type": "markdown",
      "source": [
        "7.\tจงเขียนโปรแกรมที่คำนวณค่าของ a+aa+aaa+aaaa เมื่อรับข้อมูลเป็นตัวเลข 1 หลัก\n",
        "\n",
        "Input : 9\n",
        "\n",
        "Output : 11106 (=9+99+999+9999)\n"
      ],
      "metadata": {
        "id": "DW9riUdiY7KK"
      }
    },
    {
      "cell_type": "code",
      "source": [
        "num = input()\n",
        "\n",
        "if int(num) >= 0 and int(num) <= 9:\n",
        "    p1 = str(num)\n",
        "    p2 = str(num)+str(num)\n",
        "    p3 = str(num)+str(num)+str(num)\n",
        "    p4 = str(num)+str(num)+str(num)+str(num)\n",
        "    sum = int(p1)+int(p2)+int(p3)+int(p4)\n",
        "    print(f\"{p1}+{p2}+{p3}+{p4}={sum}\")\n",
        "else:\n",
        "    print('Error ค่าที่รับเข้ามาต้องมากกว่า 0 และ หลักเดียวเท่านั้น!!')"
      ],
      "metadata": {
        "id": "iAZlPfC4Y-GG",
        "colab": {
          "base_uri": "https://localhost:8080/"
        },
        "outputId": "24a15860-142b-4796-d374-ef4b4aa94b09"
      },
      "execution_count": null,
      "outputs": [
        {
          "output_type": "stream",
          "name": "stdout",
          "text": [
            "9\n",
            "9+99+999+9999=11106\n"
          ]
        }
      ]
    },
    {
      "cell_type": "markdown",
      "source": [
        ":8.\tแปลงเลขโรมัน เป็นเลขอารบิก เช่น MMMDCCXXIV = 3724 (ค้นหาวิธีทางทางอินเตอร์เน็ต)\n"
      ],
      "metadata": {
        "id": "G3jPCyruZAZY"
      }
    },
    {
      "cell_type": "code",
      "source": [
        "roman_value = [1,4,5,10,50,100,500,1000]\n",
        "roman_char = ['I','IV','V','X','L','C','D','M']\n",
        "roman_input = input()\n",
        "sumofroman = 0\n",
        "for i in range(0,len(roman_input),2):\n",
        "    char_roman_two = roman_input[i:i+2]\n",
        "    if char_roman_two in roman_char:\n",
        "        for postiton_char in range(len(roman_char)):\n",
        "            if char_roman_two == roman_char[postiton_char]:\n",
        "                sumofroman += roman_value[postiton_char]\n",
        "    else:\n",
        "        i = 0\n",
        "        while i < len(char_roman_two):\n",
        "            char_roman_one = char_roman_two[i]\n",
        "            if char_roman_one in roman_char:\n",
        "                for postiton_char in range(len(roman_char)):\n",
        "                    if char_roman_one == roman_char[postiton_char]:\n",
        "                        sumofroman += roman_value[postiton_char]\n",
        "            else:\n",
        "                break\n",
        "            i+=1\n",
        "print(sumofroman)"
      ],
      "metadata": {
        "id": "6RBWGF4IZGnc",
        "colab": {
          "base_uri": "https://localhost:8080/"
        },
        "outputId": "4898d33e-454d-4725-c3a4-90b4ba805001"
      },
      "execution_count": null,
      "outputs": [
        {
          "output_type": "stream",
          "name": "stdout",
          "text": [
            "MMMDCCXXIV\n",
            "3724\n"
          ]
        }
      ]
    },
    {
      "cell_type": "markdown",
      "source": [
        "9.\tอนุกรม Fibonacci คือ อนุกรมที่ตัวที่ 3 เป็นต้นไปเกิดจาก 2 ตัวหน้าบวกกัน จงเขียนโปรแกรมแสดงอนุกรม\n",
        "เช่น ตั้งแต่ 0-1000 คือ 0, 1, 1, 2, 3, 5, 8, 13, 21, 34, 55, 89, 144, 233, 377, 610, 987\n"
      ],
      "metadata": {
        "id": "SJBVkaFHZHKe"
      }
    },
    {
      "cell_type": "code",
      "source": [
        "x = 0\n",
        "y = 1\n",
        "res = 0\n",
        "for i in range(0,1001):\n",
        "    if i <= 0:\n",
        "        print(x,end=' ')\n",
        "        print(y,end=' ')\n",
        "    else:\n",
        "            res = x+y\n",
        "            if res <= 1000:\n",
        "              print(res,end=' ')\n",
        "            x = y\n",
        "            y = res"
      ],
      "metadata": {
        "id": "Vdtc9KqSZLls",
        "colab": {
          "base_uri": "https://localhost:8080/"
        },
        "outputId": "2463244a-d799-4893-d4e9-ba78ff3c9c6f"
      },
      "execution_count": null,
      "outputs": [
        {
          "output_type": "stream",
          "name": "stdout",
          "text": [
            "0 1 1 2 3 5 8 13 21 34 55 89 144 233 377 610 987 "
          ]
        }
      ]
    },
    {
      "cell_type": "markdown",
      "source": [
        "10.\tให้สร้างโปรแกรม True Love โดยรับชื่อภาษาอังกฤษของ 2 คน จากนั้นค้นหาว่ามีตัวอักษรอยู่ในคำว่า True และ Love รวมกันกี่ตัว จากนั้นนำมาต่อกันเป็น % ตามรูป (ไม่ต้องแสดงเครื่องหมาย %)"
      ],
      "metadata": {
        "id": "1ykDG1H4ZKd4"
      }
    },
    {
      "cell_type": "code",
      "source": [
        "my_name = input().strip(' ')\n",
        "your_name  = input().strip(' ')\n",
        "mix_name = []\n",
        "mix_name += my_name\n",
        "mix_name += your_name\n",
        "char_oflove = [['t','T'],['r','R'],['u','U'],['e','E'],['L','l'],['o','O'],['v','V'],['e','E']]\n",
        "true_sum = 0\n",
        "i = 0\n",
        "love_sum = 0\n",
        "value_oflove = [0,0,0,0,0,0,0,0]\n",
        "for postiton_oflove in range(len(char_oflove)):\n",
        "    char = char_oflove[postiton_oflove]\n",
        "    for char_input in mix_name:\n",
        "        if char[1] == char_input[0] or char[0] == char_input:\n",
        "            value_oflove[postiton_oflove] += 1\n",
        "while i < len(value_oflove):\n",
        "    if i <= 3:\n",
        "        true_sum += value_oflove[i]\n",
        "    else:\n",
        "        love_sum += value_oflove[i]\n",
        "    i +=1\n",
        "\n",
        "print(f\"\"\"\n",
        "T {value_oflove[0]}  L {value_oflove[4]}\n",
        "r {value_oflove[1]}  o {value_oflove[5]}\n",
        "u {value_oflove[2]}  v {value_oflove[6]}\n",
        "e {value_oflove[3]}  e {value_oflove[7]}\n",
        "----------\n",
        "  {true_sum}{love_sum}\n",
        "\n",
        "\"\"\")"
      ],
      "metadata": {
        "id": "syOZPpj2ZPaA",
        "colab": {
          "base_uri": "https://localhost:8080/"
        },
        "outputId": "1321e421-e47a-4815-b429-5de3333c7587"
      },
      "execution_count": null,
      "outputs": [
        {
          "output_type": "stream",
          "name": "stdout",
          "text": [
            "Aubrey Drake Graham\n",
            "Krytie Lee Yandoli  \n",
            "\n",
            "T 1  L 2\n",
            "r 4  o 1\n",
            "u 1  v 0\n",
            "e 5  e 5\n",
            "----------\n",
            "  118\n",
            "                \n",
            "\n"
          ]
        }
      ]
    }
  ]
}