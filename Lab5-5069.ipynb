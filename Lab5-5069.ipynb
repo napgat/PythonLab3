{
  "nbformat": 4,
  "nbformat_minor": 0,
  "metadata": {
    "colab": {
      "provenance": [],
      "include_colab_link": true
    },
    "kernelspec": {
      "name": "python3",
      "display_name": "Python 3"
    },
    "language_info": {
      "name": "python"
    }
  },
  "cells": [
    {
      "cell_type": "markdown",
      "metadata": {
        "id": "view-in-github",
        "colab_type": "text"
      },
      "source": [
        "<a href=\"https://colab.research.google.com/github/napgat/PythonLab3/blob/main/Lab5-5069.ipynb\" target=\"_parent\"><img src=\"https://colab.research.google.com/assets/colab-badge.svg\" alt=\"Open In Colab\"/></a>"
      ]
    },
    {
      "cell_type": "markdown",
      "source": [
        "รหัสนักศึกษา : 67015069 ชื่อ : นายนภัทร แสงวัง"
      ],
      "metadata": {
        "id": "ayuUhdui4PbN"
      }
    },
    {
      "cell_type": "markdown",
      "source": [
        "Exercise 5.1 ให้เขียน function ชื่อ day_of_year(day, month ,year) โดยมีการคืนค่า คือ day_of_years เป็นวันที่ลำดับที่เท่าใดของปีคริสตศักราช year\n",
        "ปีที่เป็น Leap Year เดือนกุมภาพันธ์จะมี 29 วัน\n",
        "ให้สร้างฟังก์ชัน is_leap เพื่อตรวจสอบ leap year แยกออกมา และให้ฟังก์ชัน day_of_year เรียกใช้ is_leap อีกที\n"
      ],
      "metadata": {
        "id": "ZXM4rXQB6Q9o"
      }
    },
    {
      "cell_type": "code",
      "source": [
        "days_in_month = [31, 28, 31, 30, 31, 30, 31, 31, 30, 31, 30, 31]\n",
        "\n",
        "def is_leap(year):\n",
        "    if year % 4 == 0 and (year % 100 != 0 or year % 400 == 0):\n",
        "        return True\n",
        "    else:\n",
        "        return False\n",
        "def day_of_year(day, month, year):\n",
        "    total_day =0\n",
        "    total_day += day\n",
        "    if month > 1:\n",
        "        total_day += month_to_day(month-1,year)\n",
        "    return total_day\n",
        "\n",
        "\n",
        "def month_to_day(month,year):\n",
        "    day_month = 0\n",
        "    for i in range(month):\n",
        "        if i == 1 and is_leap(year) is True:\n",
        "            days_in_month[1] += 1\n",
        "        day_month += days_in_month[i]\n",
        "        days_in_month[1] = 28\n",
        "    return day_month\n",
        "\n",
        "# Testcases\n",
        "print(\"Normal year (2023):\")\n",
        "print(f\"1 Jan 2023: {day_of_year(1, 1, 2023)}\")  # ควรได้ 1\n",
        "print(f\"1 Feb 2023: {day_of_year(1, 2, 2023)}\")  # ควรได้ 32\n",
        "print(f\"1 Mar 2023: {day_of_year(1, 3, 2023)}\")  # ควรได้ 60\n",
        "print(f\"31 Dec 2023: {day_of_year(31, 12, 2023)}\")  # ควรได้ 365\n",
        "\n",
        "print(\"\\nLeap year (2024):\")\n",
        "print(f\"1 Jan 2024: {day_of_year(1, 1, 2024)}\")  # ควรได้ 1\n",
        "print(f\"29 Feb 2024: {day_of_year(29, 2, 2024)}\")  # ควรได้ 60\n",
        "print(f\"1 Mar 2024: {day_of_year(1, 3, 2024)}\")  # ควรได้ 61\n",
        "print(f\"31 Dec 2024: {day_of_year(31, 12, 2024)}\")  # ควรได้ 366\n",
        "\n",
        "print(\"\\nCentury year, not a leap year (1900):\")\n",
        "print(f\"1 Mar 1900: {day_of_year(1, 3, 1900)}\")  # ควรได้ 60\n",
        "\n",
        "print(\"\\nCentury year, leap year (2000):\")\n",
        "print(f\"1 Mar 2000: {day_of_year(1, 3, 2000)}\")  # ควรได้ 61\n",
        "\n",
        "print(\"\\nMid-year dates:\")\n",
        "print(f\"15 Jun 2023: {day_of_year(15, 6, 2023)}\")  # ควรได้ 166\n",
        "print(f\"15 Jun 2024: {day_of_year(15, 6, 2024)}\")  # ควรได้ 167 (Leap year)\n",
        "\n",
        "print(\"\\nLast day of each quarter:\")\n",
        "print(f\"31 Mar 2023: {day_of_year(31, 3, 2023)}\")  # ควรได้ 90\n",
        "print(f\"30 Jun 2023: {day_of_year(30, 6, 2023)}\")  # ควรได้ 181\n",
        "print(f\"30 Sep 2023: {day_of_year(30, 9, 2023)}\")  # ควรได้ 273\n",
        "print(f\"31 Dec 2023: {day_of_year(31, 12, 2023)}\")  # ควรได้ 365"
      ],
      "metadata": {
        "id": "oerlrWw46aJZ",
        "outputId": "6dc6e801-fc03-4ad5-a18f-f7e33187cceb",
        "colab": {
          "base_uri": "https://localhost:8080/"
        }
      },
      "execution_count": null,
      "outputs": [
        {
          "output_type": "stream",
          "name": "stdout",
          "text": [
            "Normal year (2023):\n",
            "1 Jan 2023: 1\n",
            "1 Feb 2023: 32\n",
            "1 Mar 2023: 60\n",
            "31 Dec 2023: 365\n",
            "\n",
            "Leap year (2024):\n",
            "1 Jan 2024: 1\n",
            "29 Feb 2024: 60\n",
            "1 Mar 2024: 61\n",
            "31 Dec 2024: 366\n",
            "\n",
            "Century year, not a leap year (1900):\n",
            "1 Mar 1900: 60\n",
            "\n",
            "Century year, leap year (2000):\n",
            "1 Mar 2000: 61\n",
            "\n",
            "Mid-year dates:\n",
            "15 Jun 2023: 166\n",
            "15 Jun 2024: 167\n",
            "\n",
            "Last day of each quarter:\n",
            "31 Mar 2023: 90\n",
            "30 Jun 2023: 181\n",
            "30 Sep 2023: 273\n",
            "31 Dec 2023: 365\n"
          ]
        }
      ]
    },
    {
      "cell_type": "markdown",
      "source": [
        "Exercise 5.2 ให้เขียนฟังก์ชัน เพิ่มเติมเป็น date_diff\n",
        "รับข้อมูลในรูปแบบ “dd-mm-yyyy” เช่น date_diff(“1-1-2018”, “1-1-2020”) จะได้ 731 วัน date_diff(“25-12-1999”, “9-3-2000”) จะได้ 76 วัน\n",
        "ให้เขียนฟังก์ชัน day_in_year โดยจะส่งค่าจำนวนวันของปี (365 หรือ 366) โดยรับข้อมูลเป็น ปี\n",
        "ส่งคืนข้อมูลเป็นจำนวนวันตั้งแต่วันที่แรก จนถึงวันที่สอง โดยรวมทั้ง 2 วันนั้นเข้าไปด้วย\n",
        "ให้สมมติว่าวันแรก จะต้องมาก่อนวันที่สองเสมอ ดังนั้นไม่ต้องตรวจสอบ\n"
      ],
      "metadata": {
        "id": "fkkuNcAcCo-z"
      }
    },
    {
      "cell_type": "code",
      "source": [
        "days_in_month = [31, 28, 31, 30, 31, 30, 31, 31, 30, 31, 30, 31]\n",
        "def is_leap(year):\n",
        "    if year % 4 == 0 and (year % 100 != 0 or year % 400 == 0):\n",
        "        return True\n",
        "    else:\n",
        "        return False\n",
        "def day_of_year(day, month, year):\n",
        "    total_day =0\n",
        "    total_day += day\n",
        "    if month > 1:\n",
        "        total_day += month_to_day(month-1,year)\n",
        "    return total_day\n",
        "\n",
        "\n",
        "def month_to_day(month,year):\n",
        "    day_month = 0\n",
        "    for i in range(month):\n",
        "        if i == 1 and is_leap(year) is True:\n",
        "            days_in_month[1] += 1\n",
        "        day_month += days_in_month[i]\n",
        "        days_in_month[1] = 28\n",
        "    return day_month\n",
        "\n",
        "\n",
        "def day_in_year(year):\n",
        "    return 366 if is_leap(year) else 365\n",
        "\n",
        "\n",
        "def date_diff(date1, date2):\n",
        "    day1,month1,year1 = split_date(date1)\n",
        "    day2,month2,year2 = split_date(date2)\n",
        "    year_diff = 0\n",
        "    month_diff = 0\n",
        "    year1_dayleft = 0\n",
        "    year2_daystart = 0\n",
        "    if year2 != year1:\n",
        "        for i in range(year1+1,year2):\n",
        "            year_diff += day_in_year(i)\n",
        "        year1_dayleft = day_in_year(year1) - day_of_year(day1,month1,year1) + 1\n",
        "        year2_daystart = day_of_year(day2,month2,year2)\n",
        "        dayofall = year_diff + year1_dayleft + year2_daystart\n",
        "    elif year2 == year1:\n",
        "        for i in range(month1+1,month2):\n",
        "            month_diff += days_in_month[i-1]\n",
        "        day1_left = days_in_month[month1-1] - day1 + 1\n",
        "        dayofall = month_diff + day1_left + day2\n",
        "    return dayofall\n",
        "\n",
        "\n",
        "def split_date(date):\n",
        "    day,montn,year = date.split('-')\n",
        "    return int(day),int(montn),int(year)\n",
        "\n",
        "# ทดสอบฟังก์ชัน\n",
        "print(date_diff(\"1-1-2018\", \"1-1-2020\"))  # ควรได้ 731\n",
        "print(date_diff(\"25-12-1999\", \"9-3-2000\"))  # ควรได้ 76\n",
        "print(date_diff(\"1-1-2000\", \"1-1-2001\"))  # ควรได้ 367 (ปี 2000 เป็น leap year)\n",
        "print(date_diff(\"1-1-2001\", \"1-1-2002\"))  # ควรได้ 366 (ปี 2001 ไม่ใช่ leap year)\n",
        "print(date_diff(\"1-3-2000\", \"1-3-2001\"))  # ควรได้ 367 (ข้ามปี leap year)\n",
        "print(date_diff(\"1-1-2023\", \"31-12-2023\"))  # ควรได้ 365 (ทั้งปี 2023)\n",
        "\n"
      ],
      "metadata": {
        "id": "dwNIkw0wDRjF",
        "outputId": "cfc8bd4d-eaf3-42f1-bdf3-3aace587dcfa",
        "colab": {
          "base_uri": "https://localhost:8080/"
        }
      },
      "execution_count": null,
      "outputs": [
        {
          "output_type": "stream",
          "name": "stdout",
          "text": [
            "731\n",
            "76\n",
            "367\n",
            "366\n",
            "366\n",
            "365\n"
          ]
        }
      ]
    },
    {
      "cell_type": "markdown",
      "source": [
        "Exercise 5.3 จากโปรแกรม 5.2 ให้เขียนฟังก์ชัน date_diff  เพิ่มเติม โดยให้มีการตรวจสอบ\n",
        "วันที่ต้องเป็นวันที่ถูกต้องของเดือนนั้นๆ\n",
        "เดือนต้องอยู่ระหว่าง 1-12\n",
        "เดือนกุมภาพันธ์ของปีที่มี Leap Year เท่านั้นที่จะมี 29 วันได้\n",
        "หากข้อมูล Input ผิดพลาด ให้ Return -1\n"
      ],
      "metadata": {
        "id": "JU8jQcg4WDoF"
      }
    },
    {
      "cell_type": "code",
      "source": [
        "days_in_month = [31, 28, 31, 30, 31, 30, 31, 31, 30, 31, 30, 31]\n",
        "def is_leap(year):\n",
        "    if year % 4 == 0 and (year % 100 != 0 or year % 400 == 0):\n",
        "        return True\n",
        "    else:\n",
        "        return False\n",
        "def day_of_year(day, month, year):\n",
        "    total_day =0\n",
        "    total_day += day\n",
        "    if month > 1:\n",
        "        total_day += month_to_day(month-1,year)\n",
        "    return total_day\n",
        "\n",
        "\n",
        "def month_to_day(month,year):\n",
        "    day_month = 0\n",
        "    for i in range(month):\n",
        "        if i == 1 and is_leap(year) is True:\n",
        "            days_in_month[1] += 1\n",
        "        day_month += days_in_month[i]\n",
        "        days_in_month[1] = 28\n",
        "    return day_month\n",
        "\n",
        "\n",
        "def day_in_year(year):\n",
        "    return 366 if is_leap(year) else 365\n",
        "\n",
        "\n",
        "def date_diff(date1, date2):\n",
        "    if check_format(date1) == True and check_format(date2) == True:\n",
        "        day1,month1,year1 = split_date(date1)\n",
        "        day2,month2,year2 = split_date(date2)\n",
        "        if check_error_day(day1,month1,year1) == True and check_error_day(day2,month2,year2) == True :\n",
        "            year_diff = 0\n",
        "            month_diff = 0\n",
        "            year1_dayleft = 0\n",
        "            year2_daystart = 0\n",
        "            if year2 != year1:\n",
        "                for i in range(year1+1,year2):\n",
        "                    year_diff += day_in_year(i)\n",
        "                year1_dayleft = day_in_year(year1) - day_of_year(day1,month1,year1) + 1\n",
        "                year2_daystart = day_of_year(day2,month2,year2)\n",
        "                dayofall = year_diff + year1_dayleft + year2_daystart\n",
        "            elif year2 == year1:\n",
        "                for i in range(month1+1,month2):\n",
        "                    month_diff += days_in_month[i-1]\n",
        "                day1_left = days_in_month[month1-1] - day1 + 1\n",
        "                dayofall = month_diff + day1_left + day2\n",
        "            return dayofall\n",
        "    return -1\n",
        "\n",
        "\n",
        "def check_error_day(day,month,year):\n",
        "    if is_leap(year) == True:\n",
        "        days_in_month[1] += 1\n",
        "    if month <= 12:\n",
        "        if day <= days_in_month[month-1]:\n",
        "            return True\n",
        "    return False\n",
        "\n",
        "\n",
        "def check_format(date):\n",
        "    if date[1] == '-' or date[2] == '-':\n",
        "        if date[3] == '-' or date[4] =='-' or date[5] == '-':\n",
        "            return True\n",
        "    return False\n",
        "\n",
        "def split_date(date):\n",
        "    day,montn,year = date.split('-')\n",
        "    return int(day),int(montn),int(year)\n",
        "\n",
        "# ทดสอบฟังก์ชัน\n",
        "print(date_diff(\"1-1-2018\", \"1-1-2020\"))  # ควรได้ 731\n",
        "print(date_diff(\"25-12-1999\", \"9-3-2000\"))  # ควรได้ 76\n",
        "print(date_diff(\"1-1-2000\", \"1-1-2001\"))  # ควรได้ 367 (ปี 2000 เป็น leap year)\n",
        "print(date_diff(\"1-1-2001\", \"1-1-2002\"))  # ควรได้ 366 (ปี 2001 ไม่ใช่ leap year)\n",
        "print(date_diff(\"1-3-2000\", \"1-3-2001\"))  # ควรได้ 367 (ข้ามปี leap year)\n",
        "print(date_diff(\"1-1-2023\", \"31-12-2023\"))  # ควรได้ 365 (ทั้งปี 2023)\n",
        "\n",
        "# ทดสอบกรณีข้อมูลไม่ถูกต้อง\n",
        "print(date_diff(\"31-4-2023\", \"1-5-2023\"))  # ควรได้ -1 (เดือนเมษายนมี 30 วัน)\n",
        "print(date_diff(\"29-2-2023\", \"1-3-2023\"))  # ควรได้ -1 (ปี 2023 ไม่ใช่ leap year)\n",
        "print(date_diff(\"1-13-2023\", \"1-1-2024\"))  # ควรได้ -1 (เดือนไม่ถูกต้อง)\n",
        "print(date_diff(\"abc\", \"1-1-2024\"))  # ควรได้ -1 (รูปแบบวันที่ไม่ถูกต้อง)"
      ],
      "metadata": {
        "id": "OgqrXbFVWEML",
        "outputId": "8ac7be3e-e81a-4778-eaa7-4d6a18a7c63c",
        "colab": {
          "base_uri": "https://localhost:8080/"
        }
      },
      "execution_count": null,
      "outputs": [
        {
          "output_type": "stream",
          "name": "stdout",
          "text": [
            "731\n",
            "76\n",
            "367\n",
            "366\n",
            "366\n",
            "365\n",
            "-1\n",
            "-1\n",
            "-1\n",
            "-1\n"
          ]
        }
      ]
    },
    {
      "cell_type": "markdown",
      "source": [
        "1.\tปลาหมอคางดำเพศเมีย 1 ตัว เมื่ออายุครบ 2 เดือน จะสามารถสืบพันธ์ได้ โดยระยะเวลาตั้งท้องจนถึง\n",
        "วางไข่ของตัวเมียจะใช้เวลา 21 วัน และฟักในปากเพศผู้อีก 7 วัน (สามารถรวมเป็น 1 เดือนได้) โดยออกไข่ครั้งละ 300 ฟอง กำหนดให้ไข่ฟักเป็นเพศผู้และเพศเมียอย่างละครึ่ง และเมื่อวางไข่แล้วจะสามารถสืบพันธ์ต่อได้ทันที กำหนดให้ปลามีอายุ 5 ปี และปลาทั้งหมดจะตาย p% ทุก 1 เดือน จงหาว่าปลาหมอคางดำหลุดจากฟาร์ม n ตัวเป็นเพศผู้และเพศเมียอย่างละครึ่ง จงเขียนโปรแกรมรับค่า n และ p ให้แสดงผลจำนวนปลาทุก 3 เดือน เป็นเวลา 10 ปี ให้เขียนเป็นฟังก์ชัน ชื่อ simulate_fish_population()\n"
      ],
      "metadata": {
        "id": "tdBCjJzeWb2c"
      }
    },
    {
      "cell_type": "code",
      "execution_count": null,
      "metadata": {
        "id": "JmvNmVQh4C9X",
        "outputId": "81701abc-5f83-44c0-eca9-95e477b13148",
        "colab": {
          "base_uri": "https://localhost:8080/"
        }
      },
      "outputs": [
        {
          "output_type": "stream",
          "name": "stdout",
          "text": [
            "ปีที่ 1 เดือนที่ 3 มีปลาทั้งหมด 515\n",
            "ปีที่ 1 เดือนที่ 6 มีปลาทั้งหมด 158573\n",
            "ปีที่ 1 เดือนที่ 9 มีปลาทั้งหมด 1030098278\n",
            "ปีที่ 1 เดือนที่ 12 มีปลาทั้งหมด 660919791413\n",
            "ปีที่ 2 เดือนที่ 3 มีปลาทั้งหมด 30122448241916\n",
            "ปีที่ 2 เดือนที่ 6 มีปลาทั้งหมด 9282861195296924\n",
            "ปีที่ 2 เดือนที่ 9 มีปลาทั้งหมด 60253449109616238592\n",
            "ปีที่ 2 เดือนที่ 12 มีปลาทั้งหมด 38672499647717782323200\n",
            "ปีที่ 3 เดือนที่ 3 มีปลาทั้งหมด 1761977585945330474549248\n",
            "ปีที่ 3 เดือนที่ 6 มีปลาทั้งหมด 542990172252837843038109696\n",
            "ปีที่ 3 เดือนที่ 9 มีปลาทั้งหมด 3524455447791716509548183289856\n",
            "ปีที่ 3 เดือนที่ 12 มีปลาทั้งหมด 2262102901614115954367615807258624\n",
            "ปีที่ 4 เดือนที่ 3 มีปลาทั้งหมด 103064830203733817963484015568617472\n",
            "ปีที่ 4 เดือนที่ 6 มีปลาทั้งหมด 31761578780532407964014381563891417088\n",
            "ปีที่ 4 เดือนที่ 9 มีปลาทั้งหมด 206158923464619301186388165387187329695744\n",
            "ปีที่ 4 เดือนที่ 12 มีปลาทั้งหมด 132319079038197467716251915338186646873964544\n",
            "ปีที่ 5 ปลาหมอปีที่1 ตายทั้งหมด 660919791413\n",
            "ปีที่ 5 เดือนที่ 3 มีปลาทั้งหมด 6028657407253802927670812203541940236837715968\n",
            "ปีที่ 5 เดือนที่ 6 มีปลาทั้งหมด 1857856620952303993322115303053779835530285940736\n",
            "ปีที่ 5 เดือนที่ 9 มีปลาทั้งหมด 12059026523010952270306043008867891647760657991860224\n",
            "ปีที่ 5 เดือนที่ 12 มีปลาทั้งหมด 7739850678332862317597303282608925273653794470566559744\n",
            "ปีที่ 6 ปลาหมอปีที่2 ตายทั้งหมด 38672499647717782323200\n",
            "ปีที่ 6 เดือนที่ 3 มีปลาทั้งหมด 352639305398277773731727377289939530872198925263858302976\n",
            "ปีที่ 6 เดือนที่ 6 มีปลาทั้งหมด 108673162876019163713715500454868297476690591361905012506624\n",
            "ปีที่ 6 เดือนที่ 9 มีปลาทั้งหมด 705378735195221692144809920260949201126978602793982966863233024\n",
            "ปีที่ 6 เดือนที่ 12 มีปลาทั้งหมด 452733566151834942604851389044755160602522211123631117124124016640\n",
            "ปีที่ 7 ปลาหมอปีที่3 ตายทั้งหมด 2262102901614115954367615807258624\n",
            "ปีที่ 7 เดือนที่ 3 มีปลาทั้งหมด 20627226148587247531094508216719053038865823087091969626735128870912\n",
            "ปีที่ 7 เดือนที่ 6 มีปลาทั้งหมด 6356710305999971181155757392449749401414976030233605728299437982220288\n",
            "ปีที่ 7 เดือนที่ 9 มีปลาทั้งหมด 41260308957457858894162445046281712481259611873385275422401736212278673408\n",
            "ปีที่ 7 เดือนที่ 12 มีปลาทั้งหมด 26482123549792734811814517545602112039127373164853979223694130098444437553152\n",
            "ปีที่ 8 ปลาหมอปีที่4 ตายทั้งหมด 132319079038197467716251915338186646873964544\n",
            "ปีที่ 8 เดือนที่ 3 มีปลาทั้งหมด 1206565609878380510832227001070824566463777977925837304670862172535642705100800\n",
            "ปีที่ 8 เดือนที่ 6 มีปลาทั้งหมด 371828378276850497464408545199309412472901134492047537320945321004240174904770560\n",
            "ปีที่ 8 เดือนที่ 9 มีปลาทั้งหมด 2413473798290381486925980494518644057685644044323477731932987993255872787831649730560\n",
            "ปีที่ 8 เดือนที่ 12 มีปลาทั้งหมด 1549041025757052852378878460171093472144782431454244972921841784756807718829410907848704\n",
            "ปีที่ 9 ปลาหมอปีที่5 ตายทั้งหมด 7739850678332862317597303282608925273653794470566559744\n",
            "ปีที่ 9 เดือนที่ 3 มีปลาทั้งหมด 70576652452171595447565277642637453825358031453911081728304671662093830077707258370719744\n",
            "ปีที่ 9 เดือนที่ 6 มีปลาทั้งหมด 21749668655105338051335809877792727965264464343189354101225663221905996053248452862970691584\n",
            "ปีที่ 9 เดือนที่ 9 มีปลาทั้งหมด 141173343637344500213455164364781069624918270438463810173614641507526066787736591469036238274560\n",
            "ปีที่ 9 เดือนที่ 12 มีปลาทั้งหมด 90609353701064616751589501321466602325715490560641625037463348501779412355632375831034157575700480\n",
            "ปีที่ 10 ปลาหมอปีที่6 ตายทั้งหมด 452733566151834942604851389044755160602522211123631117124124016640\n",
            "ปีที่ 10 เดือนที่ 3 มีปลาทั้งหมด 4128299224322082971510522341700928237792649071376792028499422015834157200421731227408495110912999424\n",
            "ปีที่ 10 เดือนที่ 6 มีปลาทั้งหมด 1272221579211085692750820104724347233628759967377532991847669026982849350457073445235541985388216188928\n",
            "ปีที่ 10 เดือนที่ 9 มีปลาทั้งหมด 8257770591031648330141644959580627623842596486245344914631260851542196188612481958889552250176500186218496\n",
            "ปีที่ 10 เดือนที่ 12 มีปลาทั้งหมด 5300088791458692105593770334204547235334595113394188422261673364852104650784593485520500702743698615608279040\n",
            "ปีที่ 11 ปลาหมอปีที่7 ตายทั้งหมด 26482123549792734811814517545602112039127373164853979223694130098444437553152\n"
          ]
        }
      ],
      "source": [
        "import math\n",
        "def simulate_fish_population(n, p,month=3):\n",
        "  year_offish = []\n",
        "  adult_fish = 0\n",
        "  baby_fish = 0\n",
        "  remove = 0\n",
        "  for y in range(1,11):\n",
        "    for i in range(month,12+1):\n",
        "      if i <= 3:\n",
        "        pp_born = n // 2 #เริ่มต้น ปลาจับคู่ผสมพันธ์ 2 ตัวต่อ 1 คู่จะกลายเป็น 1 คู่\n",
        "        egg_pp = pp_born * 300 #เดือนแรก 1 คู่ 1คู่ออกไข่ได้ 300 ฟองเป็น 1 * 300 = 300\n",
        "\n",
        "        baby_fish = egg_pp - (egg_pp*0.1) #เดือนที่สอง จากไข่กลายเป็นโดยเป็นลูกปลา แต่ลดลง10% = ไข่ที่ลดไปแล้ว 10%\n",
        "        egg_pp = pp_born * 300 #เดือนที่สอง 1 คู่ที่พร้อมผสมพันธ์จะผสมพันธ์กันแล้วออกไข่ในเดือนที่สองทันที่ 1 * 300 = 300\n",
        "\n",
        "        adult_fish = baby_fish -(baby_fish*0.1) #เดือนที่สาม ปลาโตเต็มวัยจากลูกปลาที่ลด 10 % แล้วก็เป็นปลาโตเต็มวัยที่ลดอีก 10% = baby_fish - (baby_fish*0.1) = 243\n",
        "        baby_fish = egg_pp - (egg_pp*0.1)#เดือนที่สาม จากไข่กลายเป็นโดยเป็นลูกปลา แต่ลดลง10% = ไข่ที่ลดไปแล้ว 10% = 270\n",
        "        egg_pp = pp_born * 300 #เดือนที่สาม 1 คู่ที่พร้อมผสมพันธ์จะผสมพันธ์กันแล้วออกไข่ในเดือนที่สองทันที่ 1 * 300 = 300\n",
        "        print(f\"ปีที่ {y} เดือนที่ {i} มีปลาทั้งหมด {round(adult_fish+n+baby_fish)}\")\n",
        "        n += adult_fish\n",
        "      elif i > 3:\n",
        "        adult_fish = baby_fish - (baby_fish * 0.1)\n",
        "        n += adult_fish\n",
        "        pp_born = n // 2\n",
        "        baby_fish = egg_pp - (egg_pp*0.1)\n",
        "        egg_pp = pp_born * 300\n",
        "        if i % 3 == 0:\n",
        "          print(f\"ปีที่ {y} เดือนที่ {i} มีปลาทั้งหมด {round(n+baby_fish)}\")\n",
        "    if y >= 4:\n",
        "      print(f\"ปีที่ {y+1} ปลาหมอปีที่{remove+1} ตายทั้งหมด {year_offish[remove]}\")\n",
        "      n -= year_offish[remove]\n",
        "      remove += 1\n",
        "    year_offish.append(round(n+baby_fish))\n",
        "n = 2\n",
        "p = 10\n",
        "simulate_fish_population(n, p)"
      ]
    },
    {
      "cell_type": "markdown",
      "source": [
        "2.\tให้เขียน function find_mismatch ซึ่งรับ string มา 2 ค่า โดยจะส่งค่ากลับดังนี้\n",
        "- 0 เมื่อ string ทั้ง 2 ตัว เหมือนกัน โดยไม่สนใจ case\n",
        "- 1 เมื่อ string 1 จะเหมือน string 2 โดยการลบและ/หรือเพิ่มตัวอักษรเพียง 1 ตัว\n",
        "- 2 เมื่อ string ไม่เข้าเกณฑ์ 0 หรือ 1\n",
        "\n",
        "\n",
        "| String  1| \tString2\t|ผลลัพธ์|\n",
        "|----------|----------|------|\n",
        "|Python|\tJava\t|2|\n",
        "|book\t |  boot\t|1|\n",
        "|fan\t |  fun\t  |1|\n",
        "|sin\t | sink\t  |1 เพราะเพิ่ม k ใน str2 แล้วจะเหมือนกัน\n",
        "|Dog\t | dog\t  |0\n",
        "|poke\t | spoke\t|1 เพิ่ม s ใน str2 แล้วเหมือนกัน\n",
        "|poker |\tpoke\t|1 ตัด r ใน str1 ออกแล้วเหมือนกัน\n",
        "\n",
        "\n",
        "\n",
        "\n"
      ],
      "metadata": {
        "id": "F0_ZEPOYbDKf"
      }
    },
    {
      "cell_type": "code",
      "source": [
        "def find_mismatch(str1, str2):\n",
        "    if str1.lower() == str2.lower(): # ถ้าตัวอักษรทุกตัวมีค่าเท่ากัน\n",
        "        return 0\n",
        "    if len(str1) == len(str2): # ตรวจสอบกรณีที่สามารถเพิ่มหรือลบตัวอักษรเพียง 1 ตัว\n",
        "        diff_count = check_differnce(str1,str2) #จะตรวจสอบว่ามีตัวอักษรต่างกันเพียง 1 ตัวหรือไม่ ถ้ามีจะแสดงค่า 1\n",
        "        if diff_count <= 2:\n",
        "            return 1\n",
        "    elif len(str1) > len(str2): # ตรวจสอบว่าถ้าตัวอักษรของชุดที่ 1 มากกว่าชุดที่ 2\n",
        "        for i in range(len(str1)):\n",
        "            if str1[:i] + str1[i+1:] == str2:# เป็นการตรวจสอบว่าถ้าลบ i ออกจาก str1 แล้วจะเท่ากับ str2 หรือไม่ ทั้งนี้ก็การลบstr1\n",
        "                return 1\n",
        "    else:# ตรวจสอบว่าถ้าตัวอักษรของชุดที่ 2 มากกว่าชุดที่ 2\n",
        "        for i in range(len(str2)):\n",
        "            if str2[:i] + str2[i+1:] == str1:# เป็นการตรวจสอบว่าถ้าลบ i ออกจาก str1 แล้วจะเท่ากับ str2 หรือไม่ ทั้งนี้คือการเพิ่ม str1\n",
        "                return 1\n",
        "    return 2\n",
        "def check_differnce(str1,str2):\n",
        "    count = 0\n",
        "    for s1 in str1:\n",
        "        if s1 not in str2:\n",
        "            count += 1\n",
        "    for s2 in str2:\n",
        "        if s2 not in str1:\n",
        "            count += 1\n",
        "    return count\n",
        "\n",
        "str1 = \"poker\"\n",
        "str2 = \"poke\"\n",
        "result = find_mismatch(str1, str2)\n",
        "print(result)\n",
        "\n"
      ],
      "metadata": {
        "id": "jyVxAb-MXnz2",
        "colab": {
          "base_uri": "https://localhost:8080/"
        },
        "outputId": "52b5cfc0-6d5e-49f2-9ac9-aed4838d7e32"
      },
      "execution_count": null,
      "outputs": [
        {
          "output_type": "stream",
          "name": "stdout",
          "text": [
            "1\n"
          ]
        }
      ]
    },
    {
      "cell_type": "markdown",
      "source": [
        "3.\tจากข้อ 1 ให้เขียนฟังก์ชันชื่อ spelling_correction โดยรับ 2 argument ตัวแรกเป็นประโยค (string) และตัวที่ 2 เป็น list ของคำ (correct_spells) โดยฟังก์ชันนี้มีหน้าที่ตรวจสอบแต่ละ word ใน input string กับคำที่อยู่ใน correct_spells โดยค่าที่คืนกลับมาจะมีดังนี้ (พยายามเรียกใช้ฟังก์ชันในข้อ 1)\n",
        "-\tถ้าคำที่อยู่ในประโยค ตรงกับคำที่อยู่ใน correct_spells ทุกอย่าง ก็จะ copy ไปที่ output string\n",
        "-\tถ้าคำที่อยู่ในประโยค ต่างจากคำที่อยู่ใน correct_spells โดยต่างกัน 1 ตัวอักษร โดยการเปลี่ยน การเพิ่ม หรือการลบ 1 ตัวอักษร คำที่อยู่ในประโยคจะถูกเปลี่ยนโดยคำที่อยู่ใน correct_spells และนำไปใส่ output string\n",
        "-\tถ้าคำที่ไม่พบในเงื่อนไขข้างต้นให้นำคำนั้นไปใส่ output string ได้เลย\n",
        "-\tคำที่ประกอบด้วย 1 หรือ 2 ตัวอักษรจะไม่ตรวจสอบ ให้นำคำนั้นไปใส่ output string ได้เลย\n",
        "-\tถ้ามี 2 คำใน correct_spells ที่ตรงตามเงื่อนไข ให้ใช้คำแรก\n",
        "-\tไม่สนใจตัวใหญ่ ตัวเล็ก\n",
        "-\tInput string จะมีได้เพียงอักษรภาษาอังกฤษเท่านั้น\n",
        "-\tในแต่ละคำจะคั่นด้วย 1 space ถ้ามี space มากกว่านั้นให้ตัดออก และตัด space จากหัวท้ายประโยค\n",
        "\n",
        "|ประโยค\t|correct_spells\t|output string |\n",
        "|-------|---------------|-------------|\n",
        "|Thes is the Firs cas\t|[‘that’,’first’,’case’,’car’]|\tthes is the first car|\n",
        "|programming is fan and easy\t|[‘programming’,’this’,’fun’,’easy’,book’]\t|programming is fun and easy|\n",
        "|Thes is vary essy\t|[‘this’,’is’,’very’,’easy’]\t|this is very easy|\n",
        "|Wee ipve Pythen\t|[‘we’,’live’,’ln’,’Python’]\t|we live python|\n",
        "\n",
        "\n"
      ],
      "metadata": {
        "id": "jzXp83HSbMh9"
      }
    },
    {
      "cell_type": "code",
      "source": [
        "word_correct = \t['programming','this','fun','easy','book','that','first','case','car','is','very','we','live','ln','python']\n",
        "sentense = 'Thes is the Firs cas'\n",
        "def find_mismatch(str1, str2):\n",
        "    if str1.lower() == str2.lower(): # ถ้าตัวอักษรทุกตัวมีค่าเท่ากัน\n",
        "        return str1\n",
        "    if len(str1) == len(str2): # ตรวจสอบกรณีที่สามารถเพิ่มหรือลบตัวอักษรเพียง 1 ตัว\n",
        "        diff_count = check_differnce(str1,str2) #จะตรวจสอบว่ามีตัวอักษรต่างกันเพียง 1 ตัวหรือไม่ ถ้ามีจะแสดงค่า 1\n",
        "        if diff_count <= 2:\n",
        "            return str2\n",
        "    elif len(str1) > len(str2): # ตรวจสอบว่าถ้าตัวอักษรของชุดที่ 1 มากกว่าชุดที่ 2\n",
        "        for i in range(len(str1)):\n",
        "            if str1[:i] + str1[i+1:] == str2:# เป็นการตรวจสอบว่าถ้าลบ i ออกจาก str1 แล้วจะเท่ากับ str2 หรือไม่ ทั้งนี้ก็การลบstr1\n",
        "                return str2\n",
        "    else:# ตรวจสอบว่าถ้าตัวอักษรของชุดที่ 2 มากกว่าชุดที่ 2\n",
        "        for i in range(len(str2)):\n",
        "            if str2[:i] + str2[i+1:] == str1:# เป็นการตรวจสอบว่าถ้าลบ i ออกจาก str1 แล้วจะเท่ากับ str2 หรือไม่ ทั้งนี้คือการเพิ่ม str1\n",
        "                return str2\n",
        "    return str1\n",
        "def check_differnce(str1,str2):\n",
        "    count = 0\n",
        "    for s1 in str1:\n",
        "        if s1 not in str2:\n",
        "            count += 1\n",
        "    for s2 in str2:\n",
        "        if s2 not in str1:\n",
        "            count += 1\n",
        "    return count\n",
        "\n",
        "def spelling_correction(input_string, correct_spells):\n",
        "    output_string = []\n",
        "    input_string = input_string.lower()\n",
        "    list_string = input_string.split(' ')\n",
        "    for s1 in list_string:\n",
        "        for c1 in correct_spells:\n",
        "            if len(s1) <= 2 :\n",
        "                output_string.append(s1)\n",
        "                break\n",
        "            else:\n",
        "                if check_differnce(s1,c1) <= 2:\n",
        "                    output_string.append(find_mismatch(s1,c1))\n",
        "                    break\n",
        "                else:\n",
        "                    continue\n",
        "\n",
        "    return output_string\n",
        "sentense_correct = spelling_correction(sentense, word_correct)\n",
        "print(\" \".join(sentense_correct))"
      ],
      "metadata": {
        "id": "4NW0Y1hXpfCt",
        "colab": {
          "base_uri": "https://localhost:8080/"
        },
        "outputId": "b3a9ea05-4dd2-4198-80a1-2c67c7d09673"
      },
      "execution_count": null,
      "outputs": [
        {
          "output_type": "stream",
          "name": "stdout",
          "text": [
            "this is the first case\n"
          ]
        }
      ]
    },
    {
      "cell_type": "markdown",
      "source": [
        "4. ให้เขียนฟังก์ชัน find_word_horizontal ซึ่งจะรับ list ขนาด 2 มิติ ของตัวอักษร (คล้ายกับเกม cross word) และ word ซึ่งเป็น string เป็น argument โดยฟังก์ชันนี้ จะค้นหาตามแถวของ list เพื่อหาตำแหน่งที่มีอักษรตรงกับคำใน word ถ้าพบ จะส่งคืน row index และ column index ของตัวอักษรแรก ถ้าไม่พบจะส่งคืน None\n",
        "\n",
        "```\n",
        "crosswords=[['s','d','o','g'],\n",
        "            ['c','u','c','m'],\n",
        "            ['a','c','a','t'],\n",
        "            ['t',' e','t','k']]\n",
        "\tword='cat'\n",
        "\tfind_word_horizontal(crosswords,word)\n",
        "```\n",
        "\n",
        "Output\n",
        "   [2,1]\n"
      ],
      "metadata": {
        "id": "sshYZJYZpfua"
      }
    },
    {
      "cell_type": "code",
      "source": [
        "crosswords=[['s','d','o','g'],\n",
        "            ['c','u','c','m'],\n",
        "            ['a','c','a','t'],\n",
        "            ['t','e','t','k']]\n",
        "word='cat'\n",
        "def find_word_horizontal(crosswords,word):\n",
        "    word_split = []\n",
        "    word_split += word\n",
        "\n",
        "    for row in range(len(crosswords)):\n",
        "        for i in range(len(crosswords[row]) - len(word_split) + 1):# ให้วนตามจำนวนที่จะได้ค่าครบคือ กำหนดไว้ค่าต้องครบ 3 ตัวเพราะฉะนั้นการจับคู่จะเริ่มเป็น abc bcd โดยจะวนแค่ 2 รอบเท่านั้น\n",
        "            pair = crosswords[row][i:i+len(word_split)]\n",
        "            if pair == word_split:\n",
        "                print(f\"[{row},{i}]\")\n",
        "\n",
        "find_word_horizontal(crosswords,word)"
      ],
      "metadata": {
        "id": "2z0nonPMqZ_Q",
        "colab": {
          "base_uri": "https://localhost:8080/"
        },
        "outputId": "306ec535-2be1-4d02-a2ef-d345f65e2d09"
      },
      "execution_count": null,
      "outputs": [
        {
          "output_type": "stream",
          "name": "stdout",
          "text": [
            "[2,1]\n"
          ]
        }
      ]
    },
    {
      "cell_type": "markdown",
      "source": [
        "5. ให้เขียนฟังก์ชัน find_word_vertical ซึ่งจะรับ list ขนาด 2 มิติ ของตัวอักษร (คล้ายกับเกม cross word) และ word ซึ่งเป็น string เป็น argument โดยฟังก์ชันนี้ จะค้นหาตามคอลัมน์ของ list เพื่อหาตำแหน่งที่มีอักษรตรงกับคำใน word ถ้าพบ จะส่งคืน row index และ column index ของตัวอักษรแรก ถ้าไม่พบจะส่งคืน None\n",
        "\n",
        "ตัวอย่าง\n",
        "```\n",
        "\tcrosswords=[['s','d','o','g'],\n",
        "              ['c','u','c','m'],\n",
        "              ['a','c','a','t'],\n",
        "              ['t',' e','t','k']]\n",
        "\tword='cat'\n",
        "\tfind_word_vertical(crosswords,word)\n",
        "```\n",
        "\n",
        "Output\n",
        "   [1,0]\n"
      ],
      "metadata": {
        "id": "sDhGHMPsqr6a"
      }
    },
    {
      "cell_type": "code",
      "source": [
        "crosswords=[['s','d','o','g'],\n",
        "            ['c','u','c','m'],\n",
        "            ['a','c','a','t'],\n",
        "            ['t','e','t','k']]\n",
        "word='cat'\n",
        "def find_word_vertical(crosswords,word):\n",
        "    word_split = []\n",
        "    word_split += word\n",
        "    selected_word = []\n",
        "    for col in range(len(crosswords)):\n",
        "        start_point = 0\n",
        "        end_point = len(word_split)\n",
        "        for loop_len in range(len(crosswords)- len(word_split) + 1):\n",
        "            selected_word = []\n",
        "            for i in crosswords[start_point:end_point]:\n",
        "                selected_word += i[col]\n",
        "                if selected_word == word_split:\n",
        "                    print(f\"[{loop_len},{col}]\")\n",
        "                    return 0\n",
        "            start_point += 1\n",
        "            end_point += 1\n",
        "\n",
        "\n",
        "find_word_vertical(crosswords,word)"
      ],
      "metadata": {
        "id": "R5Jp1CkQrEz9",
        "colab": {
          "base_uri": "https://localhost:8080/"
        },
        "outputId": "286f2a0c-46d7-47b4-be5d-921a7ad2bb04"
      },
      "execution_count": null,
      "outputs": [
        {
          "output_type": "stream",
          "name": "stdout",
          "text": [
            "[1,0]\n"
          ]
        },
        {
          "output_type": "execute_result",
          "data": {
            "text/plain": [
              "0"
            ]
          },
          "metadata": {},
          "execution_count": 6
        }
      ]
    },
    {
      "cell_type": "markdown",
      "source": [
        "6.\tให้เขียนฟังก์ชัน capitalize_word_in_crossword จะรับ list ขนาด 2 มิติ ของตัวอักษร (คล้ายกับเกม cross word) และ word ซึ่งเป็น string เป็น argument โดยฟังก์ชันนี้ จะค้นหาตาม row และ column ของ list เพื่อหาตำแหน่งที่มีอักษรตรงกับคำใน word ถ้าพบจะเปลี่ยนเป็นตัวใหญ่และ และส่งคืน list ที่แก้ไขแล้ว แต่ถ้าไม่เจอจะส่ง list เดิมกลับมา ให้ใช้ฟังก์ชันตามข้อ 3 และ 4 ช่วย\n",
        "\n",
        "```\n",
        "crosswords=[['s','d','o','g'],\n",
        "            ['c','u','c','m'],\n",
        "            ['a','x','a','t'],\n",
        "            ['t','e','t','k']]\n",
        "word='cat'\n",
        "capitalize_word_in_crossword(crosswords,word)\n",
        "```\n",
        "จะส่งค่ากลับ\n",
        "```\n",
        " [['s','d','o','g'],\n",
        "  ['C','u','c','m'],\n",
        "  ['A','x','a','t'],\n",
        "  ['T','e','t','k']]\n",
        "```\n",
        "```\n",
        "crosswords=[['s','d','o','g'],\n",
        "            ['c','u','c','m'],\n",
        "            ['a','c','a','t'],\n",
        "            ['t','e','t','k']]\n",
        "word='cat'\n",
        "capitalize_word_in_crossword(crosswords,word)\n",
        "จะส่งค่ากลับ                   \n",
        "[['s','d','o','g'],\n",
        " ['c','u','c','m'],\n",
        " ['a','C','A','T'],\n",
        " ['t','e','t','k']]\n",
        "```\n",
        "\n",
        "\n"
      ],
      "metadata": {
        "id": "dinoUBQTrDFp"
      }
    },
    {
      "cell_type": "code",
      "source": [
        "crosswords=[['s','d','o','g'],\n",
        "            ['c','u','c','m'],\n",
        "            ['a','c','a','t'],\n",
        "            ['t','e','t','k']]\n",
        "word='cat'\n",
        "def find_word_vertical(crosswords,word):\n",
        "    word_split = []\n",
        "    word_split += word\n",
        "    selected_word = []\n",
        "    for col in range(len(crosswords)):\n",
        "        start_point = 0\n",
        "        end_point = len(word_split)\n",
        "        for loop_len in range(len(crosswords)- len(word_split) + 1):\n",
        "            selected_word = []\n",
        "            for i in crosswords[start_point:end_point]:\n",
        "                selected_word += i[col]\n",
        "                if selected_word == word_split:\n",
        "                    result = f\"{loop_len}{col}\"\n",
        "                    return result\n",
        "            start_point += 1\n",
        "            end_point += 1\n",
        "def find_word_horizontal(crosswords,word):\n",
        "    word_split = []\n",
        "    word_split += word\n",
        "\n",
        "    for row in range(len(crosswords)):\n",
        "        for i in range(len(crosswords[row]) - len(word_split) + 1):\n",
        "            pair = crosswords[row][i:i+len(word_split)]\n",
        "            if pair == word_split:\n",
        "                result = f\"{row}{i}\"\n",
        "                return result\n",
        "\n",
        "\n",
        "def capitalize_word_in_crossword(crosswords,word):\n",
        "    positon_found = []\n",
        "    positon_found = find_word_horizontal(crosswords,word)\n",
        "    if positon_found != None:\n",
        "        rows = int(positon_found[0])\n",
        "        col = int(positon_found[1])\n",
        "        i = 0\n",
        "        while i < len(word):\n",
        "            crosswords[rows][col+i] = crosswords[rows][col+i].upper()\n",
        "            i += 1\n",
        "    positon_found = find_word_vertical(crosswords,word)\n",
        "    if positon_found != None:\n",
        "        rows = int(positon_found[0])\n",
        "        col = int(positon_found[1])\n",
        "        i = 0\n",
        "        while i < len(word):\n",
        "            crosswords[rows+i][col] = crosswords[rows+i][col].upper()\n",
        "            i += 1\n",
        "    return crosswords\n",
        "\n",
        "crosswords = capitalize_word_in_crossword(crosswords,word)\n",
        "print(\"crosswords = [\")\n",
        "for row in crosswords:\n",
        "    print(\"    \" + str(row) + \",\")\n",
        "print(\"]\")"
      ],
      "metadata": {
        "id": "IM99mZNs0css",
        "colab": {
          "base_uri": "https://localhost:8080/"
        },
        "outputId": "c4955d06-c22f-4d5f-d895-962a2579798b"
      },
      "execution_count": null,
      "outputs": [
        {
          "output_type": "stream",
          "name": "stdout",
          "text": [
            "crosswords = [\n",
            "    ['s', 'd', 'o', 'g'],\n",
            "    ['C', 'u', 'c', 'm'],\n",
            "    ['A', 'C', 'A', 'T'],\n",
            "    ['T', 'e', 't', 'k'],\n",
            "]\n"
          ]
        }
      ]
    }
  ]
}