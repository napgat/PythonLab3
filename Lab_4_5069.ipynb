{
  "nbformat": 4,
  "nbformat_minor": 0,
  "metadata": {
    "colab": {
      "provenance": [],
      "include_colab_link": true
    },
    "kernelspec": {
      "name": "python3",
      "display_name": "Python 3"
    },
    "language_info": {
      "name": "python"
    }
  },
  "cells": [
    {
      "cell_type": "markdown",
      "metadata": {
        "id": "view-in-github",
        "colab_type": "text"
      },
      "source": [
        "<a href=\"https://colab.research.google.com/github/napgat/PythonLab3/blob/main/Lab_4_5069.ipynb\" target=\"_parent\"><img src=\"https://colab.research.google.com/assets/colab-badge.svg\" alt=\"Open In Colab\"/></a>"
      ]
    },
    {
      "cell_type": "markdown",
      "source": [
        "4.1 2520 คือ ตัวเลขที่น้อยที่สุด ที่สามารถหารด้วยตัวเลขทุกตัวตั้งแต่ 1-10 จงหาจำนวนเต็มบวกที่น้อยที่สุดที่หารด้วยตัวเลขทุกตัวตั้งแต่ 1-20\n",
        "\n",
        "15 = 360360\n",
        "\n",
        "20 = 232792560\n",
        "\n",
        "ปล. ห้าม import math"
      ],
      "metadata": {
        "id": "-bpz7hteQPdz"
      }
    },
    {
      "cell_type": "code",
      "execution_count": null,
      "metadata": {
        "id": "HSZUXcF2QMVn",
        "outputId": "e4d8593e-7bed-4ae2-971a-311b6ead41df",
        "colab": {
          "base_uri": "https://localhost:8080/"
        }
      },
      "outputs": [
        {
          "output_type": "stream",
          "name": "stdout",
          "text": [
            "232792560\n"
          ]
        }
      ],
      "source": [
        "unfounded = True\n",
        "num_all = 1\n",
        "num_divine = 1\n",
        "while unfounded :\n",
        "    for i in range(1,21):\n",
        "        if num_all % i == 0:\n",
        "                if i == 20:\n",
        "                    print(num_all)\n",
        "                    unfounded = False\n",
        "                continue\n",
        "        else:\n",
        "            break\n",
        "    num_all += 1"
      ]
    },
    {
      "cell_type": "markdown",
      "source": [
        "4.2 จำนวนเฉพาะ (Prime Number) คือตัวเลขที่มีแต่ 1 กับตัวมันเองที่หารลงตัว โดยจำนวนเฉพาะ 6 ตัวแรกคือ 2, 3, 5, 7, 11, 13 โดยจำนวนเฉพาะตัวที่ 6 คือ 13 จงหาจำนวนเฉพาะตัวที่ 101\n",
        "\n",
        "=> 547"
      ],
      "metadata": {
        "id": "Wq1EFYHUWNOA"
      }
    },
    {
      "cell_type": "code",
      "source": [
        "input_n = int(input())\n",
        "count = 0\n",
        "num = 2\n",
        "while True:\n",
        "    Thisprime = True\n",
        "    if num > 1:\n",
        "        for i in range(2,int(num**0.5)+1):\n",
        "            if num % i == 0:\n",
        "                Thisprime = False\n",
        "                break\n",
        "    if Thisprime:\n",
        "        count += 1\n",
        "        if count == input_n:\n",
        "            print(f\"PrimeNum {input_n} is {num}\")\n",
        "            break\n",
        "    num += 1"
      ],
      "metadata": {
        "colab": {
          "base_uri": "https://localhost:8080/"
        },
        "id": "cpMa6Vp0Vz_L",
        "outputId": "e8fd1477-e352-4a85-d685-a1499b652ca9"
      },
      "execution_count": null,
      "outputs": [
        {
          "output_type": "stream",
          "name": "stdout",
          "text": [
            "101\n",
            "PrimeNum 101 is 547\n"
          ]
        }
      ]
    },
    {
      "cell_type": "markdown",
      "source": [
        "1.\tกำหนดให้มี List หนึ่งประกอบด้วยตัวเลขจำนวนหนึ่ง และ ให้รับตัวเลขจำนวน 1 จำนวน จากนั้นให้หาว่าใน List มีตัวเลข 2 จำนวนใดที่บวกกันเท่ากับตัวเลขที่รับมา ให้แสดงคำตอบเป็น List เช่น Output: [0,1] โดยอาจมีมากกว่า 1 คำตอบ\n",
        "\n",
        "ตัวอย่าง list : [2, 7, 11, 15]\n",
        "\n",
        "Input : 9\n",
        "\n",
        "Output : 2 + 7 = 9 (ถ้าไม่มีให้บอก None)\n"
      ],
      "metadata": {
        "id": "-pUpw-m_WqFG"
      }
    },
    {
      "cell_type": "code",
      "source": [
        "num_input = int(input())\n",
        "lst_add = []\n",
        "i = 0\n",
        "lst = [2, 7, 11, 15]\n",
        "for current in range(0,len(lst)):\n",
        "    for nexts in range(current+1,len(lst)):\n",
        "        result = lst[current] + lst[nexts]\n",
        "        if result == num_input:\n",
        "            lst_add.append([lst[current],lst[nexts]])\n",
        "if lst_add == []:\n",
        "  print(None)\n",
        "else:\n",
        "  print(*lst_add,sep=',')"
      ],
      "metadata": {
        "id": "s3djwBi4ks1g",
        "colab": {
          "base_uri": "https://localhost:8080/"
        },
        "outputId": "31b3dd8e-09e9-442a-c0b5-a70a0fbb3d8c"
      },
      "execution_count": null,
      "outputs": [
        {
          "output_type": "stream",
          "name": "stdout",
          "text": [
            "9\n",
            "[2, 7]\n"
          ]
        }
      ]
    },
    {
      "cell_type": "markdown",
      "source": [
        "2.\tให้เขียนโปรแกรมรับข้อมูล 1 บรรทัด ประกอบด้วยตัวเลข 1 หลัก จำนวนไม่เกิน 10 ตัว คั่นด้วยช่องว่าง จากนั้นให้นำตัวเลขที่รับเข้ามาเรียงกัน และหาลำดับการเรียงที่ทำให้มีค่าน้อยที่สุด โดยต้องไม่ขึ้นต้นด้วย 0\n",
        "\n",
        "Input : 9 4 6 2  \n",
        "\n",
        "คำตอบ 2469\n",
        "\n",
        "Input : 3 0 8 1 3 3\n",
        "\n",
        "คำตอบ : 103338\n"
      ],
      "metadata": {
        "id": "_3yLG291lSFy"
      }
    },
    {
      "cell_type": "code",
      "source": [
        "a = [int(e) for e in input().split()]\n",
        "num_choose = a[0]\n",
        "new_list = []\n",
        "loop_first = 0\n",
        "amount_a = len(a)\n",
        "h = 1\n",
        "\n",
        "while h <= amount_a:\n",
        "    for i in range(len(a)):\n",
        "        if a[i] == 0 and loop_first == 0:\n",
        "            continue\n",
        "        else:\n",
        "            if num_choose <= a[i]:\n",
        "                continue\n",
        "            else:\n",
        "                num_choose = a[i]\n",
        "    new_list.append(num_choose)\n",
        "    a.remove(num_choose)\n",
        "    if not a == []:\n",
        "        num_choose = a[0]\n",
        "    loop_first = 1\n",
        "    h += 1\n",
        "\n",
        "print(*new_list,sep=\"\")"
      ],
      "metadata": {
        "id": "ACtXvMEyli0L",
        "colab": {
          "base_uri": "https://localhost:8080/"
        },
        "outputId": "4b93e394-5c1a-4192-b41f-f6e4ab56dc5c"
      },
      "execution_count": null,
      "outputs": [
        {
          "output_type": "stream",
          "name": "stdout",
          "text": [
            "3 0 8 1 3 3\n",
            "103338\n"
          ]
        }
      ]
    },
    {
      "cell_type": "markdown",
      "source": [
        "3.\tจากตัวเลขต่อไปนี้ ตัวเลขติดกัน 4 ตัวที่เมื่อนำมาคูณกันแล้วมีค่ามากที่สุดคือ 9 × 9 × 8 × 9 = 5832\n",
        "\n",
        "73167176531330624919225119674426574742355349194934\n",
        "96983520312774506326239578318016984801869478851843\n",
        "85861560789112949495459501737958331952853208805511\n",
        "12540698747158523863050715693290963295227443043557\n",
        "66896648950445244523161731856403098711121722383113\n",
        "62229893423380308135336276614282806444486645238749\n",
        "30358907296290491560440772390713810515859307960866\n",
        "70172427121883998797908792274921901699720888093776\n",
        "65727333001053367881220235421809751254540594752243\n",
        "52584907711670556013604839586446706324415722155397\n",
        "53697817977846174064955149290862569321978468622482\n",
        "83972241375657056057490261407972968652414535100474\n",
        "82166370484403199890008895243450658541227588666881\n",
        "16427171479924442928230863465674813919123162824586\n",
        "17866458359124566529476545682848912883142607690042\n",
        "24219022671055626321111109370544217506941658960408\n",
        "07198403850962455444362981230987879927244284909188\n",
        "84580156166097919133875499200524063689912560717606\n",
        "05886116467109405077541002256983155200055935729725\n",
        "71636269561882670428252483600823257530420752963450\n",
        "\n",
        "จงหาเลขติดกัน 8 ตัวที่เมื่อนำมาคูณกันแล้วมีค่ามากที่สุด และเป็นเลขอะไร ผลคูณเท่ากับเท่าไร\n",
        "\n",
        "The maximum product is: 7838208\n",
        "The digits are: 88399879\n",
        "\n",
        "\n",
        "\n"
      ],
      "metadata": {
        "id": "Gv8aIY7dliSY"
      }
    },
    {
      "cell_type": "code",
      "source": [
        "str = \"7316717653133062491922511967442657474235534919493496983520312774506326239578318016984801869478851843858615607891129494954595017379583319528532088055111254069874715852386305071569329096329522744304355766896648950445244523161731856403098711121722383113622298934233803081353362766142828064444866452387493035890729629049156044077239071381051585930796086670172427121883998797908792274921901699720888093776657273330010533678812202354218097512545405947522435258490771167055601360483958644670632441572215539753697817977846174064955149290862569321978468622482839722413756570560574902614079729686524145351004748216637048440319989000889524345065854122758866688116427171479924442928230863465674813919123162824586178664583591245665294765456828489128831426076900422421902267105562632111110937054421750694165896040807198403850962455444362981230987879927244284909188845801561660979191338754992005240636899125607176060588611646710940507754100225698315520005593572972571636269561882670428252483600823257530420752963450\"\n",
        "count = 0\n",
        "total_score = 1\n",
        "max_total = 0\n",
        "num_list = ''\n",
        "max_num_list =''\n",
        "for num in str:\n",
        "    if count == 8:\n",
        "        if total_score >= max_total:\n",
        "            max_num_list = ''\n",
        "            max_total = total_score\n",
        "            max_num_list += num_list\n",
        "        num_list = ''\n",
        "        total_score = 1\n",
        "        count = 0\n",
        "    else:\n",
        "        total_score *= int(num)\n",
        "        num_list += num\n",
        "        count+=1\n",
        "\n",
        "print(f\"The maximum product is: {''.join(max_num_list)} The digits are: {max_total}\")"
      ],
      "metadata": {
        "id": "wvVqGMknmBu5",
        "colab": {
          "base_uri": "https://localhost:8080/"
        },
        "outputId": "e74772e9-e613-415e-ac24-aa7bf138a0fe"
      },
      "execution_count": null,
      "outputs": [
        {
          "output_type": "stream",
          "name": "stdout",
          "text": [
            "The maximum product is: 57668966 The digits are: 3265920\n"
          ]
        }
      ]
    },
    {
      "cell_type": "markdown",
      "source": [
        "4.\tตัวเลข palindrome คือตัวเลขที่อ่านได้ทั้ง 2 ทาง แล้วมีค่าเท่ากัน เช่น 9009 โดย 9009 คือ palindrome ที่เกิดจากการคูณของตัวเลข 2 หลักที่มากที่สุด คือ 91x99 จงหา palindrome ที่มากที่สุดของตัวเลข 3 หลัก\n",
        "\n",
        "The largest palindrome product of 3-digit numbers is: 906609\n"
      ],
      "metadata": {
        "id": "fjy5LNC7m0We"
      }
    },
    {
      "cell_type": "code",
      "source": [
        "right_num = 999\n",
        "left_num = 999\n",
        "choice_turn = [right_num,left_num]\n",
        "founded_parlindrome = False\n",
        "choose = 0\n",
        "while founded_parlindrome != True:\n",
        "    num_choose = choice_turn[0] - 99\n",
        "    while choice_turn[0] != 900:\n",
        "        sum = choice_turn[0] * choice_turn[1]\n",
        "        string = str(sum)\n",
        "        reverse_str = string[::-1]\n",
        "        if string == reverse_str:\n",
        "            founded_parlindrome =True\n",
        "            print(f\"{choice_turn[0]}x{choice_turn[1]} = \"+string)\n",
        "            break\n",
        "        else:\n",
        "            choice_turn[0] -= 1\n",
        "    choice_turn[1] -= 1\n",
        "    choice_turn[0] = 999"
      ],
      "metadata": {
        "id": "y-QY3hzVmsud",
        "colab": {
          "base_uri": "https://localhost:8080/"
        },
        "outputId": "2c3e5198-649f-4870-f4b7-ae014354caa4"
      },
      "execution_count": 2,
      "outputs": [
        {
          "output_type": "stream",
          "name": "stdout",
          "text": [
            "913x993 = 906609\n"
          ]
        }
      ]
    },
    {
      "cell_type": "markdown",
      "source": [
        "5.\tกำหนดให้ string มีเพียงสัญลักษณ์ '(', ')', '{', '}', '[' และ ']' ให้ตรวจสอบว่า String ถูกต้อง โดย เมื่อมีวงเล็บเปิด จะต้องมีวงเล็บปิดที่เป็นชนิดเดียวกัน จำนวนเท่ากันที่เป็นคู่ของมัน\n",
        "\n",
        "```\n",
        "Input: s = \"()\"\n",
        "Output: true\n",
        "Input: s = \"()[]{}\"\n",
        "Output: true\n",
        "Input: s = \"[()]{}\"\n",
        "Output: true\n",
        "Input: s = \"(]\"\n",
        "Output: false\n",
        "```\n",
        "\n",
        "\n"
      ],
      "metadata": {
        "id": "rUZvLJ-JnGJY"
      }
    },
    {
      "cell_type": "code",
      "source": [
        "symbol_open = ['(', '{', '[']\n",
        "symbol_close = [')','}',']']\n",
        "selected_sym = []\n",
        "string = input(\"Input: \")\n",
        "\n",
        "result = False\n",
        "for position in range(len(string)):\n",
        "    char_str = string[position]\n",
        "    if char_str in symbol_open:\n",
        "        for op in range(len(symbol_open)):\n",
        "            if char_str == symbol_open[op]:\n",
        "                selected_sym += str(op)\n",
        "    else:\n",
        "        if not selected_sym == []:\n",
        "            get_sym = int(selected_sym[-1])\n",
        "            if symbol_close[get_sym] == char_str:\n",
        "                result = True\n",
        "                selected_sym.remove(selected_sym[-1])\n",
        "\n",
        "        else:\n",
        "            result = False\n",
        "            break\n",
        "    if not selected_sym == []:\n",
        "        result = False\n",
        "print(result)"
      ],
      "metadata": {
        "id": "Ku8ts4x7nk1y",
        "colab": {
          "base_uri": "https://localhost:8080/"
        },
        "outputId": "a75b1e55-7356-46f3-c015-a86fd2457b79"
      },
      "execution_count": null,
      "outputs": [
        {
          "output_type": "stream",
          "name": "stdout",
          "text": [
            "Input: (]\n",
            "False\n"
          ]
        }
      ]
    },
    {
      "cell_type": "markdown",
      "source": [
        "6.\tกำหนดให้รับข้อมูล Integer (เป็นบวกหรือลบก็ได้) จากนั้นให้แสดงผลลัพธ์ที่ reverse ตัวเลขตามตัวอย่าง\n",
        "\n",
        "```\n",
        "Input: x = 123\n",
        "Output: 321\n",
        "Input: x = -123\n",
        "Output: -321\n",
        "Input: x = 120\n",
        "Output: 21\n",
        "```\n",
        "\n"
      ],
      "metadata": {
        "id": "PLL9Wdqqnx7o"
      }
    },
    {
      "cell_type": "code",
      "source": [
        "x = int(input(\"Input: \"))#รับตัวแปรเข้ามาเป็น จำนวนเต็ม\n",
        "if x.isnumis\n",
        "str_x = str(x) # เปลี่ยนตัวแปร x ที่เป็นจำนวนเต็มมาเป็น str แล้วเก็บใน str_x\n",
        "reverse = '' # สร้างตัวแปร reverse รอเก็บค่า\n",
        "if str(str_x[0]) == '-': #เช็คว่าตำแหน่งช่องตัวแปรข้อความช่องที่ 0 มีค่าเท่ากับตัว -\n",
        "  reverse = str_x[::-1] #ให้reverse เก็บค่าที่เรียงตัวอักษรใหม่จาก หลังมาหน้า\n",
        "  reverse = reverse.replace(reverse[-1],'') #เราทำคำสั่งในเงื่อนไขที่มีด้านหน้าเป็นลบเมื่อเรียงใหม่ลบจะมาอยู่ด้านหลังซึ่งเราต้องเอา ลบ ข้างหลังออกโดยใช่ index[-1] และใช้คำสั่งreplace เพื่อแทนที่ช่องว่างกับ ตำแหน่งสุดท้าย\n",
        "  reverse = '-'+reverse #ให้reverse มีค่าบวก - ด้านหน้า\n",
        "else:#ถ้าเงื่อนไขไม่มีลบด้านหน้าให้ทำเรียงข้อความเฉยๆ\n",
        "  reverse = str_x[::-1]#ให้reverse เก็บค่าที่เรียงตัวอักษรใหม่จาก หลังมาหน้า\n",
        "print(int(reverse))#แสดงrevese แบบจำนวนเต็มเพื่อไม่ให้แสดงข้อความที่เรียงจาก 0 มาถึงเลข\n"
      ],
      "metadata": {
        "id": "PKWv72Her0sg",
        "outputId": "6d127e31-711d-4b21-df98-1e9bfc345879",
        "colab": {
          "base_uri": "https://localhost:8080/"
        }
      },
      "execution_count": null,
      "outputs": [
        {
          "output_type": "stream",
          "name": "stdout",
          "text": [
            "Input: 120\n",
            "21\n"
          ]
        }
      ]
    },
    {
      "cell_type": "markdown",
      "source": [
        "7.\tเขียนโปรแกรมเพื่อแสดงปิรามิดบนจอภาพ โดยแสดงเป็นรูปสี่เหลี่ยม ตัวเลขเริ่มจาก 0  และเพิ่มค่าตามลําดับจํานวนขั้น จาก 0 ถึง N (รับค่า N จากคีย์บอร์ด) ค่าของ N อยู่ระหว่าง 0-9 ดังตัวอย่าง\n",
        "\n",
        "\n",
        "```\n",
        "\t\t\t\t\t\t\t\t\t         0000000\n",
        "\t\t\t\t\t\t\t    00000\t\t0111110\n",
        "\t\t\t\t\t000\t\t 01110\t\t0122210\n",
        "\t\t\t0\t\t010\t\t01210\t\t0123210\n",
        "\t\t\t\t\t000\t\t 01110\t\t0122210\n",
        "\t\t\t\t\t\t\t    00000\t\t0111110\n",
        "\t\t\t\t\t\t\t\t\t         0000000\n",
        "\n",
        "\t\t\tn=0\t\tn=1\t\tn=2\t\tn=3\n",
        "\n",
        "```\n",
        "\n"
      ],
      "metadata": {
        "id": "KboD6c8rn52a"
      }
    },
    {
      "cell_type": "code",
      "source": [
        "num = int(input())\n",
        "for i in range(num+1):\n",
        "    for j in range(num+1):\n",
        "        if j > i:\n",
        "            print(i,end=\"\")\n",
        "        else:\n",
        "            print(j,end=\"\")\n",
        "    for j in range(num-1,-1,-1):\n",
        "        if j > i:\n",
        "            print(i,end=\"\")\n",
        "        else:\n",
        "            print(j,end=\"\")\n",
        "    print()\n",
        "for i in range(num-1,-1,-1):\n",
        "    for j in range(num+1):\n",
        "        if j > i:\n",
        "            print(i,end=\"\")\n",
        "        else:\n",
        "            print(j,end=\"\")\n",
        "    for j in range(num-1,-1,-1):\n",
        "        if j > i:\n",
        "            print(i,end=\"\")\n",
        "        else:\n",
        "            print(j,end=\"\")\n",
        "    print()"
      ],
      "metadata": {
        "id": "sGhw6Iyfobiz",
        "outputId": "f4356983-5878-4026-ed00-cec0e09a4c89",
        "colab": {
          "base_uri": "https://localhost:8080/"
        }
      },
      "execution_count": null,
      "outputs": [
        {
          "output_type": "stream",
          "name": "stdout",
          "text": [
            "3\n",
            "0000000\n",
            "0111110\n",
            "0122210\n",
            "0123210\n",
            "0122210\n",
            "0111110\n",
            "0000000\n"
          ]
        }
      ]
    },
    {
      "cell_type": "markdown",
      "source": [
        "8.\tเขียนโปรแกรมเพื่อแสดงปิรามิดบนจอภาพ โดยแสดงเป็นรูปสี่เหลี่ยม ตัวเลขเริ่มจาก 0  และเพิ่มค่าตามลําดับจํานวนขั้น จาก 0 ถึง N (รับค่า N จากคีย์บอร์ด) กําหนดให้จุดศูนย์กลางของรูปสี่เหลี่ยมอยู่ที่แถว 13 คอลัมน์ 40 ของจอภาพค่าของ N อยู่ระหว่าง 0-9 ดังตัวอย่าง\n",
        "\n",
        "\n",
        "\n",
        "```\n",
        "\t\t\t\t\t\t\t\t\t            0\n",
        "\t\t\t\t\t\t\t      0\t\t    010\n",
        "\t\t\t\t\t  0\t\t  010\t\t  01210\n",
        "\t\t\t0\t\t010\t\t01210\t\t0123210\n",
        "\t\t\t\t\t  0\t\t  010\t\t  01210\n",
        "\t\t\t\t\t\t\t      0\t\t    010\n",
        "\t\t\t\t\t\t\t\t\t            0\n",
        "\n",
        "\t\t\tn=0\t\tn=1\t\tn=2\t\tn=3\n",
        "\n",
        "```\n",
        "\n"
      ],
      "metadata": {
        "id": "ecRYU6Lkob6Q"
      }
    },
    {
      "cell_type": "code",
      "source": [
        "num = int(input())\n",
        "rows_input = 13-(num+1)\n",
        "column_input = 40-(num-1)\n",
        "for rows in range(rows_input):\n",
        "    print(f\"\",end='\\n')\n",
        "for i in range(num,-1,-1):\n",
        "  for j in range(num+1):\n",
        "    sum = j-i\n",
        "    if i <= j:\n",
        "      print(sum,end='')\n",
        "    else:\n",
        "      print(' ',end='')\n",
        "  for j in range(num-1,-1,-1):\n",
        "    sum = j-i\n",
        "    if i <= j:\n",
        "      print(sum,end='')\n",
        "    else:\n",
        "      print(' ',end='')\n",
        "  print()\n",
        "for i in range(1,num+1):\n",
        "  for column in range(column_input):\n",
        "    print(\" \",end='')\n",
        "  for j in range(num+1):\n",
        "    sum = j-i\n",
        "    if i <= j:\n",
        "      print(sum,end='')\n",
        "    else:\n",
        "      print(' ',end='')\n",
        "  for j in range(num-1,0,-1):\n",
        "    sum = j-i\n",
        "    if i <= j:\n",
        "      print(sum,end='')\n",
        "    else:\n",
        "      print(' ',end='')\n",
        "  print()"
      ],
      "metadata": {
        "colab": {
          "base_uri": "https://localhost:8080/"
        },
        "id": "Y6zKphEp52c6",
        "outputId": "c6079060-449a-4f60-a8d1-927733954ca5"
      },
      "execution_count": null,
      "outputs": [
        {
          "output_type": "stream",
          "name": "stdout",
          "text": [
            "3\n",
            "\n",
            "\n",
            "\n",
            "\n",
            "\n",
            "\n",
            "\n",
            "\n",
            "\n",
            "                                         0   \n",
            "                                        010  \n",
            "                                       01210 \n",
            "                                      0123210\n",
            "                                       01210\n",
            "                                        010 \n",
            "                                         0  \n"
          ]
        }
      ]
    },
    {
      "cell_type": "markdown",
      "source": [
        "9.\tให้เขียนโปรแกรมสร้างรูปสามเหลี่ยมที่วางซ้อนกัน 3 รูป โดยแต่ละรูปสร้างมาจากเครื่องหมาย \"*\" โดยกําหนดให้รับตัวเลขระดับของสามเหลี่ยมจากคีย์บอร์ด จากตัวอย่างข้างล่างนี้เป็นรูปสามเหลี่ยมระดับที่ 3 และ 4\n",
        "\n",
        "\n",
        "\n",
        "```\n",
        "              *\n",
        "\t\t     ***\n",
        "\t\t    *****\n",
        "\t\t   *     *\n",
        "\t      ***   ***\n",
        "\t     ***** *****\n",
        "\n",
        "  \t\t    *\n",
        "\t  \t   ***\n",
        "\t\t    *****\n",
        "\t\t   *******\n",
        "\t      *       *\n",
        "\t     ***     ***\n",
        "\t    *****   *****\n",
        "\t   ******* *******\n",
        "\n",
        "```\n",
        "\n"
      ],
      "metadata": {
        "id": "Po50A-Kuo5t4"
      }
    },
    {
      "cell_type": "code",
      "source": [
        "amount_trangle = int(input())\n",
        "for i in range(amount_trangle,0,-1):\n",
        "    print(' '*amount_trangle,end=\"\")\n",
        "    for j in range(1,amount_trangle+1):\n",
        "        if i - j <= 0:\n",
        "            print('*',end='')\n",
        "        else:\n",
        "            print(' ',end='')\n",
        "    for x in range(amount_trangle-1,0,-1):\n",
        "        if i - x <= 0:\n",
        "            print('*',end='')\n",
        "        else:\n",
        "            print(' ',end='')\n",
        "    print(end='\\n')\n",
        "\n",
        "for i in range(amount_trangle,0,-1):\n",
        "    for j in range(1,amount_trangle+1):\n",
        "        if i - j <= 0:\n",
        "            print('*',end='')\n",
        "        else:\n",
        "            print(' ',end='')\n",
        "    for x in range(amount_trangle-1,0,-1):\n",
        "        if i - x <= 0:\n",
        "            print('*',end='')\n",
        "        else:\n",
        "            print(' ',end='')\n",
        "    print(' ',end='')\n",
        "    for j in range(1,amount_trangle+1):\n",
        "        if i - j <= 0:\n",
        "            print('*',end='')\n",
        "        else:\n",
        "            print(' ',end='')\n",
        "    for x in range(amount_trangle-1,0,-1):\n",
        "        if i - x <= 0:\n",
        "            print('*',end='')\n",
        "        else:\n",
        "            print(' ',end='')\n",
        "    print(end='\\n')\n",
        "\n"
      ],
      "metadata": {
        "colab": {
          "base_uri": "https://localhost:8080/"
        },
        "id": "JclRP0MoWXHA",
        "outputId": "e452107a-358e-495d-ec9f-68bbecf7b0e2"
      },
      "execution_count": null,
      "outputs": [
        {
          "output_type": "stream",
          "name": "stdout",
          "text": [
            "3\n",
            "     *  \n",
            "    *** \n",
            "   *****\n",
            "  *     *  \n",
            " ***   *** \n",
            "***** *****\n"
          ]
        }
      ]
    }
  ]
}